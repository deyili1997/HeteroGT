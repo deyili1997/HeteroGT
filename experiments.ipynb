{
 "cells": [
  {
   "cell_type": "code",
   "execution_count": 1,
   "id": "9bc53801",
   "metadata": {},
   "outputs": [],
   "source": [
    "import torch\n",
    "import pickle\n",
    "import numpy as np\n",
    "from argparse import Namespace\n",
    "from torch.utils.data import DataLoader\n",
    "import torch.nn.functional as F\n",
    "from heterogt.utils.tokenizer import EHRTokenizer\n",
    "from heterogt.utils.dataset import FineTuneEHRDataset, batcher\n",
    "from heterogt.utils.train import train_with_early_stopping\n",
    "from heterogt.utils.seed import set_random_seed"
   ]
  },
  {
   "cell_type": "code",
   "execution_count": 2,
   "id": "c42d3e09",
   "metadata": {},
   "outputs": [
    {
     "name": "stdout",
     "output_type": "stream",
     "text": [
      "[INFO] Random seed set to 123\n"
     ]
    }
   ],
   "source": [
    "set_random_seed(123)"
   ]
  },
  {
   "cell_type": "code",
   "execution_count": 3,
   "id": "af3d65aa",
   "metadata": {},
   "outputs": [
    {
     "name": "stdout",
     "output_type": "stream",
     "text": [
      "cuda\n"
     ]
    }
   ],
   "source": [
    "device = torch.device(\"cuda\" if torch.cuda.is_available() else \"cpu\")\n",
    "print(device)"
   ]
  },
  {
   "cell_type": "code",
   "execution_count": 4,
   "id": "d073b89b",
   "metadata": {},
   "outputs": [],
   "source": [
    "config = Namespace(\n",
    "    dataset = \"MIMIC-III\",\n",
    "    tasks = [\"death\", \"readmission\", \"stay\", \"next_diag_6m\", \"next_diag_12m\"], \n",
    "    task_index = 2,\n",
    "    token_type = [\"diag\", \"med\", \"lab\", \"pro\"],\n",
    "    special_tokens = [\"[PAD]\"],\n",
    "    batch_size = 32,\n",
    "    lr = 1e-3,\n",
    "    epochs = 500,\n",
    "    early_stop_patience = 5,   \n",
    ")"
   ]
  },
  {
   "cell_type": "code",
   "execution_count": 5,
   "id": "bbe56943",
   "metadata": {},
   "outputs": [
    {
     "name": "stdout",
     "output_type": "stream",
     "text": [
      "Current task: stay\n"
     ]
    }
   ],
   "source": [
    "full_data_path = f\"./data_process/{config.dataset}-processed/mimic.pkl\"  # for tokenizer\n",
    "curr_task = config.tasks[config.task_index]\n",
    "print(\"Current task:\", curr_task)\n",
    "if curr_task == \"next_diag_6m\":\n",
    "    finetune_data_path = f\"./data_process/{config.dataset}-processed/mimic_nextdiag_6m.pkl\"\n",
    "elif curr_task == \"next_diag_12m\":\n",
    "    finetune_data_path = f\"./data_process/{config.dataset}-processed/mimic_nextdiag_12m.pkl\"\n",
    "else:\n",
    "    finetune_data_path = f\"./data_process/{config.dataset}-processed/mimic_downstream.pkl\""
   ]
  },
  {
   "cell_type": "code",
   "execution_count": 6,
   "id": "57d4378a",
   "metadata": {},
   "outputs": [
    {
     "name": "stdout",
     "output_type": "stream",
     "text": [
      "Max admissions per patient: 8\n"
     ]
    }
   ],
   "source": [
    "ehr_full_data = pickle.load(open(full_data_path, 'rb'))\n",
    "diag_sentences = ehr_full_data[\"ICD9_CODE\"].values.tolist()\n",
    "med_sentences = ehr_full_data[\"NDC\"].values.tolist()\n",
    "lab_sentences = ehr_full_data[\"LAB_TEST\"].values.tolist()\n",
    "pro_sentences = ehr_full_data[\"PRO_CODE\"].values.tolist()\n",
    "age_gender_sentences = [\"[PAD]\"] + [str(c) + \"_\" + gender for c in set(ehr_full_data[\"AGE\"].values.tolist()) for gender in [\"M\", \"F\"]]\n",
    "token_type_sentences = [\"[PAD]\"] + config.token_type\n",
    "max_admissions = ehr_full_data.groupby(\"SUBJECT_ID\")[\"HADM_ID\"].nunique().max()\n",
    "config.max_num_adms = max_admissions\n",
    "print(f\"Max admissions per patient: {config.max_num_adms}\")"
   ]
  },
  {
   "cell_type": "code",
   "execution_count": 7,
   "id": "a8db4baa",
   "metadata": {},
   "outputs": [
    {
     "name": "stdout",
     "output_type": "stream",
     "text": [
      "Age and gender vocabulary size: 37\n"
     ]
    }
   ],
   "source": [
    "task_sentences = config.tasks\n",
    "tokenizer = EHRTokenizer(token_type_sentences, age_gender_sentences, task_sentences, diag_sentences, \n",
    "                         med_sentences, lab_sentences, pro_sentences, special_tokens=config.special_tokens)\n",
    "config.label_vocab_size = len(tokenizer.diag_voc.id2word)  # only for diagnosis\n",
    "config.global_vocab_size = len(tokenizer.vocab.id2word)\n",
    "config.age_gender_vocab_size = tokenizer.token_number(\"age_gender\")\n",
    "print(f\"Age and gender vocabulary size: {config.age_gender_vocab_size}\")"
   ]
  },
  {
   "cell_type": "code",
   "execution_count": 8,
   "id": "4a50b960",
   "metadata": {},
   "outputs": [
    {
     "name": "stdout",
     "output_type": "stream",
     "text": [
      "Percentage of DEATH in test dataset: 28.648477157360407 %\n",
      "Percentage of READMISSION in test dataset: 40.1491116751269 %\n",
      "Percentage of STAY>7 days in test dataset: 50.58692893401015 %\n"
     ]
    }
   ],
   "source": [
    "train_data, val_data, test_data = pickle.load(open(finetune_data_path, 'rb'))\n",
    "# example label percentage\n",
    "print(\"Percentage of DEATH in test dataset:\",\n",
    "      (test_data[\"DEATH\"] == True).mean() * 100, \"%\")\n",
    "\n",
    "print(\"Percentage of READMISSION in test dataset:\",\n",
    "      (test_data[\"READMISSION\"] == 1).mean() * 100, \"%\")\n",
    "\n",
    "print(\"Percentage of STAY>7 days in test dataset:\",\n",
    "      (test_data[\"STAY_DAYS\"] > 7).mean() * 100, \"%\")"
   ]
  },
  {
   "cell_type": "code",
   "execution_count": 9,
   "id": "09f0ec18",
   "metadata": {},
   "outputs": [],
   "source": [
    "train_dataset = FineTuneEHRDataset(train_data, tokenizer, token_type=config.token_type, task=curr_task)\n",
    "val_dataset = FineTuneEHRDataset(val_data, tokenizer, token_type=config.token_type, task=curr_task)\n",
    "test_dataset = FineTuneEHRDataset(test_data, tokenizer, token_type=config.token_type, task=curr_task)"
   ]
  },
  {
   "cell_type": "code",
   "execution_count": 10,
   "id": "d71f325f",
   "metadata": {},
   "outputs": [],
   "source": [
    "train_dataloader = DataLoader(\n",
    "    train_dataset,\n",
    "    collate_fn=batcher(tokenizer, config.task_index, n_token_type=len(config.token_type), is_pretrain = False),\n",
    "    shuffle=True,\n",
    "    batch_size=config.batch_size,\n",
    ")\n",
    "\n",
    "val_dataloader = DataLoader(\n",
    "    val_dataset,\n",
    "    collate_fn=batcher(tokenizer, config.task_index, n_token_type=len(config.token_type), is_pretrain = False),\n",
    "    shuffle=False,\n",
    "    batch_size=config.batch_size,\n",
    ")\n",
    "\n",
    "test_dataloader = DataLoader(\n",
    "    test_dataset,\n",
    "    collate_fn=batcher(tokenizer, config.task_index, n_token_type=len(config.token_type), is_pretrain = False),\n",
    "    shuffle=False,\n",
    "    batch_size=config.batch_size,\n",
    ")"
   ]
  },
  {
   "cell_type": "code",
   "execution_count": 11,
   "id": "10339a18",
   "metadata": {},
   "outputs": [],
   "source": [
    "if curr_task in [\"death\", \"stay\", \"readmission\"]:\n",
    "    eval_metric = \"prauc\"\n",
    "    task_type = \"binary\"\n",
    "    loss_fn = F.binary_cross_entropy_with_logits\n",
    "else:\n",
    "    eval_metric = \"prauc\"\n",
    "    task_type = \"l2r\"\n",
    "    loss_fn = lambda x, y: F.binary_cross_entropy_with_logits(x, y)"
   ]
  },
  {
   "cell_type": "code",
   "execution_count": 12,
   "id": "d5717b84",
   "metadata": {},
   "outputs": [
    {
     "name": "stdout",
     "output_type": "stream",
     "text": [
      "Input IDs shape: torch.Size([32, 256])\n",
      "Token Types shape: torch.Size([32, 256])\n",
      "Admission Index shape: torch.Size([32, 256])\n",
      "Age/Sex IDs shape: torch.Size([32, 7])\n",
      "Task Index: 2\n",
      "Labels shape: torch.Size([32, 1])\n"
     ]
    }
   ],
   "source": [
    "input_ids, token_types, adm_index, age_gender_ids, task_index, labels = next(iter(train_dataloader))\n",
    "print(\"Input IDs shape:\", input_ids.shape)\n",
    "print(\"Token Types shape:\", token_types.shape)\n",
    "print(\"Admission Index shape:\", adm_index.shape)\n",
    "print(\"Age/Sex IDs shape:\", age_gender_ids.shape)\n",
    "print(\"Task Index:\", task_index)\n",
    "print(\"Labels shape:\", labels.shape)"
   ]
  },
  {
   "cell_type": "markdown",
   "id": "814e9e16",
   "metadata": {},
   "source": [
    "# Model Walkthrough"
   ]
  },
  {
   "cell_type": "code",
   "execution_count": 13,
   "id": "ad8d7e4c",
   "metadata": {},
   "outputs": [
    {
     "name": "stderr",
     "output_type": "stream",
     "text": [
      "Disabling PyTorch because PyTorch >= 2.1 is required but found 1.13.1\n",
      "None of PyTorch, TensorFlow >= 2.0, or Flax have been found. Models won't be available and only tokenizers, configuration and file/data utilities can be used.\n"
     ]
    }
   ],
   "source": [
    "import torch.nn as nn\n",
    "import torch.nn.functional as F\n",
    "from torch_geometric.data import HeteroData, Batch as HeteroBatch\n",
    "from torch_geometric.nn import HeteroConv, GATConv"
   ]
  },
  {
   "cell_type": "code",
   "execution_count": 14,
   "id": "61f4f4c1",
   "metadata": {},
   "outputs": [],
   "source": [
    "class DiseaseOccHetGNN(nn.Module):\n",
    "    def __init__(self, d_model: int):\n",
    "        super().__init__()\n",
    "        self.conv1 = HeteroConv({\n",
    "            ('visit','contains','occ'): GATConv(d_model, d_model, add_self_loops=False),\n",
    "            ('occ','contained_by','visit'): GATConv(d_model, d_model, add_self_loops=False),\n",
    "            ('visit','next','visit'): GATConv(d_model, d_model, add_self_loops=False),\n",
    "        }, aggr='mean')\n",
    "        self.lin = nn.Linear(d_model, d_model)\n",
    "    \n",
    "    def forward(self, hg: HeteroData):\n",
    "        # x_dict: {'visit': [N_visit, d], 'occ': [N_occ, d]}\n",
    "        x_dict = {'visit': hg['visit'].x, 'occ': hg['occ'].x}\n",
    "        x_dict = self.conv1(x_dict, hg.edge_index_dict)\n",
    "        x_dict = {k: self.lin(v) for k, v in x_dict.items()}\n",
    "        return x_dict # {'visit': [N_visit, d], 'occ': [N_occ, d]}"
   ]
  },
  {
   "cell_type": "code",
   "execution_count": 15,
   "id": "2177ac5c",
   "metadata": {},
   "outputs": [],
   "source": [
    "# multi-class classification task\n",
    "class MultiPredictionHead(nn.Module):\n",
    "    def __init__(self, hidden_size, label_size):\n",
    "        super(MultiPredictionHead, self).__init__()\n",
    "        self.cls = nn.Sequential(\n",
    "                nn.Linear(hidden_size, hidden_size), \n",
    "                nn.ReLU(), \n",
    "                nn.Linear(hidden_size, label_size)\n",
    "            )\n",
    "\n",
    "    def forward(self, input):\n",
    "        return self.cls(input)\n",
    "    \n",
    "class BinaryPredictionHead(nn.Module):\n",
    "    def __init__(self, hidden_size):\n",
    "        super(BinaryPredictionHead, self).__init__()\n",
    "        self.cls = nn.Sequential(\n",
    "                nn.Linear(hidden_size, hidden_size), \n",
    "                nn.ReLU(), \n",
    "                nn.Linear(hidden_size, 1)\n",
    "            )\n",
    "    def forward(self, input):\n",
    "        return self.cls(input)"
   ]
  },
  {
   "cell_type": "code",
   "execution_count": 16,
   "id": "6c1bfd4e",
   "metadata": {},
   "outputs": [
    {
     "name": "stdout",
     "output_type": "stream",
     "text": [
      "tensor([[19, 19, 19, 23]])\n"
     ]
    }
   ],
   "source": [
    "for i in range(len(train_dataset)):\n",
    "    age_gender_ids = train_dataset[i][3]\n",
    "    if len(age_gender_ids[0]) > 3:\n",
    "        print(age_gender_ids)\n",
    "        break\n",
    "exp_i = i\n",
    "id_seq = torch.concat([train_dataset[exp_i][0][0], torch.zeros(5, dtype=train_dataset[exp_i][0][0].dtype)], dim=0)\n",
    "type_seq = torch.concat([train_dataset[exp_i][1][0], torch.zeros(5, dtype=train_dataset[exp_i][1][0].dtype)], dim=0)\n",
    "visit_seq = torch.concat([train_dataset[exp_i][2][0], torch.zeros(5, dtype=train_dataset[exp_i][2][0].dtype)], dim=0)\n",
    "age_sex = torch.concat([train_dataset[exp_i][3][0], torch.zeros(3, dtype=train_dataset[exp_i][3][0].dtype)], dim=0)"
   ]
  },
  {
   "cell_type": "code",
   "execution_count": 17,
   "id": "a1413e3e",
   "metadata": {},
   "outputs": [],
   "source": [
    "class HeteroGT(nn.Module):\n",
    "    def __init__(self, tokenizer, d_model, num_heads, num_layers, max_num_adms, device, task, use_hetero_graph):\n",
    "        super(HeteroGT, self).__init__()\n",
    "        self.device = device\n",
    "        self.tokenizer = tokenizer\n",
    "        self.max_num_adms = max_num_adms\n",
    "        self.use_hetero_graph = use_hetero_graph\n",
    "        self.global_vocab_size = len(self.tokenizer.vocab.word2id)\n",
    "        self.age_sex_vocab_size = len(self.tokenizer.age_gender_voc.word2id)\n",
    "        self.n_type = len(self.tokenizer.token_type_voc.word2id)\n",
    "        self.d_model = d_model\n",
    "        self.num_heads = num_heads\n",
    "        self.num_layers = num_layers\n",
    "        self.seq_pad_id = tokenizer.convert_tokens_to_ids([\"[PAD]\"], voc_type=\"all\")[0] #0\n",
    "        self.type_pad_id = tokenizer.convert_tokens_to_ids([\"[PAD]\"], voc_type=\"type\")[0] #0\n",
    "        self.adm_pad_id = 0\n",
    "        self.age_sex_pad_id = tokenizer.convert_tokens_to_ids([\"[PAD]\"], voc_type=\"age_gender\")[0] #0\n",
    "        self.diag_type_id = 1\n",
    "        self.visit_type_id = 5\n",
    "        \n",
    "        # embedding layers\n",
    "        self.token_emb = nn.Embedding(self.global_vocab_size, d_model, padding_idx=self.seq_pad_id)\n",
    "        self.type_emb = nn.Embedding(self.n_type + 1, d_model, padding_idx=self.type_pad_id)\n",
    "        self.adm_index_emb = nn.Embedding(self.max_num_adms + 1, d_model, padding_idx=self.adm_pad_id) # +1 for pad\n",
    "        self.age_sex_emb = nn.Embedding(self.age_sex_vocab_size, d_model, padding_idx=self.age_sex_pad_id)\n",
    "        self.task_emb = nn.Embedding(5, d_model, padding_idx=None)  # task embedding, not used in this model\n",
    "        \n",
    "        # GNN\n",
    "        self.het_gnn = DiseaseOccHetGNN(d_model)    \n",
    "\n",
    "        # encoder transformer\n",
    "        enc_layer = nn.TransformerEncoderLayer(d_model=d_model, nhead=num_heads, batch_first=True, norm_first = True)\n",
    "        self.encoder = nn.TransformerEncoder(enc_layer, num_layers=num_layers, enable_nested_tensor=False)\n",
    "\n",
    "        # prediction head\n",
    "        if task in [\"death\", \"stay\", \"readmission\"]:\n",
    "            self.cls_head = BinaryPredictionHead(self.d_model)\n",
    "        else:\n",
    "            self.cls_head = MultiPredictionHead(self.d_model, config.label_vocab_size)\n",
    "\n",
    "\n",
    "    def forward(self, input_ids, token_types, adm_index, age_gender_index, task_id):\n",
    "        B, L = input_ids.shape\n",
    "        task_id = torch.full((B,), task_id, dtype=torch.long, device=self.device)\n",
    "        # 基础表示\n",
    "        token_embed = self.token_emb(input_ids)  # [B, L, d]\n",
    "        adm_emb  = self.adm_index_emb(adm_index)          # [B, L, d]\n",
    "        type_emb = self.type_emb(token_types)       # [B, L, d]\n",
    "        x_tokens = token_embed + adm_emb + type_emb  # [B, L, d]\n",
    "        task_emb = self.task_emb(task_id).unsqueeze(1)           # [B, 1, d]\n",
    "        x = torch.cat([task_emb, x_tokens], dim=1)  # [B, 1+L, d]\n",
    "        \n",
    "        # mask      \n",
    "        seq_pad_mask = (input_ids == self.seq_pad_id)         # [B, L]\n",
    "        task_pad_mask = torch.zeros((B, 1), dtype=torch.bool, device=self.device)\n",
    "        mask = torch.concat([task_pad_mask, seq_pad_mask], dim=1)  # [B, 1+L]\n",
    "        \n",
    "        if self.use_hetero_graph:\n",
    "            # get visit embed and mask\n",
    "            visit_emb_pad, visit_pad_mask = self.visit_segment(B, input_ids, token_types, adm_index, age_gender_index)\n",
    "            x = torch.cat([x, visit_emb_pad], dim=1)  # [B, 1+L(+V), d]\n",
    "            mask = torch.concat([mask, visit_pad_mask], dim=1)\n",
    "\n",
    "        # ===== Transformer 编码（batch_first=True） =====\n",
    "        h = self.encoder(x, src_key_padding_mask=mask)   # [B, 1+L(+V), d]\n",
    "\n",
    "        # ===== 分类：取 CLS（task 位） =====\n",
    "        logits = self.cls_head(h[:, 0, :])  # [B, label_size]\n",
    "        return logits\n",
    "\n",
    "    def visit_segment(self, B, input_ids, token_types, adm_index, age_gender_index):\n",
    "        graphs = []\n",
    "        for p in range(B):\n",
    "            hg_p = self.build_patient_graph(input_ids[p], token_types[p], adm_index[p], age_gender_index[p])\n",
    "            graphs.append(hg_p)\n",
    "\n",
    "        batch_graph = HeteroBatch.from_data_list(graphs).to(self.device)\n",
    "        out = self.het_gnn(batch_graph)\n",
    "        h_visit_all = out['visit']  # extract virtual visit node representations\n",
    "\n",
    "        # 取出每个样本的 visit 表示序列（按我们在 build_patient_graph 中的保序构造）\n",
    "        visit_emb_seq = []\n",
    "        offset = 0\n",
    "        for p in range(B):\n",
    "            n_v = graphs[p]['visit'].num_nodes\n",
    "            visit_emb_p = h_visit_all[offset:offset + n_v]  # [N_visit_p, d]\n",
    "            offset += n_v\n",
    "            visit_emb_seq.append(visit_emb_p)\n",
    "            \n",
    "        visit_emb_pad = []\n",
    "        visit_pad_mask = []\n",
    "        visit_index_pad = []\n",
    "        for p in range(B):\n",
    "            v = visit_emb_seq[p]                          # [N_visit_p, d]\n",
    "            Np = v.size(0)\n",
    "            if Np < self.max_num_adms:\n",
    "                pad_len = self.max_num_adms - Np\n",
    "                v_pad = torch.cat([v, torch.zeros(pad_len, self.d_model, device=self.device, dtype=v.dtype)], dim=0)\n",
    "                m_pad = torch.cat([torch.zeros(Np, dtype=torch.bool, device=self.device), torch.ones(pad_len, dtype=torch.bool, device=self.device)], dim=0)\n",
    "                i_pad = torch.cat([torch.arange(1, Np + 1, device=self.device), torch.full((pad_len,), self.adm_pad_id, dtype=torch.long, device=self.device)], dim=0)\n",
    "            else:\n",
    "                v_pad = v[:self.max_num_adms]\n",
    "                m_pad = torch.zeros(self.max_num_adms, dtype=torch.bool, device=self.device)\n",
    "                i_pad = torch.arange(1, self.max_num_adms + 1, device=self.device)\n",
    "            visit_emb_pad.append(v_pad)      # [V_max, d]\n",
    "            visit_pad_mask.append(m_pad)     # [V_max]\n",
    "            visit_index_pad.append(i_pad)    # [V_max]\n",
    "\n",
    "        visit_emb_pad  = torch.stack(visit_emb_pad,  dim=0)  # [B, V_max, d]\n",
    "        visit_pad_mask = torch.stack(visit_pad_mask, dim=0)  # [B, V_max]\n",
    "        visit_index_pad = torch.stack(visit_index_pad, dim=0)  # [B, V_max]\n",
    "\n",
    "        # ====== 对齐与类型嵌入（关键部分） ======\n",
    "        nonpad = (~visit_pad_mask).unsqueeze(-1)             # [B, V_max, 1], bool\n",
    "\n",
    "        # 1. 加 type embedding（仅非 pad 位）\n",
    "        visit_type_ids = torch.full((B, self.max_num_adms), self.visit_type_id, dtype=torch.long, device=self.device) # [B, V_max]                                                   # [B, V_max]\n",
    "        visit_type_emb = self.type_emb(visit_type_ids) * nonpad      # [B, V_max, d]\n",
    "        \n",
    "        # 2. 加 visit index embedding（仅非 pad 位）\n",
    "        visit_index_emb = self.adm_index_emb(visit_index_pad) * nonpad  # [B, V_max, d]\n",
    "        \n",
    "        # 3. 得到最终embedding\n",
    "        visit_emb_pad  = visit_emb_pad + visit_type_emb + visit_index_emb\n",
    "\n",
    "        return visit_emb_pad, visit_pad_mask\n",
    "    \n",
    "    def build_patient_graph(self, id_seq: torch.Tensor, type_seq: torch.Tensor, visit_seq: torch.Tensor, age_sex: torch.Tensor):\n",
    "        # build a graph just for one patient\n",
    "        hg = HeteroData()\n",
    "        occ_mask = (type_seq == self.diag_type_id) & (id_seq != self.seq_pad_id) # 疾病token mask\n",
    "        occ_pos = torch.nonzero(occ_mask, as_tuple=False).view(-1) # 疾病 token 的位置索引，形状 [N_occ]\n",
    "        N_occ = occ_pos.numel() # 疾病 token 数量\n",
    "\n",
    "        # build visit virtual nodes\n",
    "        nonpad = id_seq != self.seq_pad_id\n",
    "        visit_used = visit_seq[nonpad] # seq非pad部分\n",
    "        visit_ids_unique, visit_lid_nonpad = torch.unique(visit_used, return_inverse=True)\n",
    "        visit_lid_full = torch.full_like(id_seq, fill_value=-1)\n",
    "        visit_lid_full[nonpad] = visit_lid_nonpad\n",
    "        N_visit = visit_ids_unique.numel()\n",
    "        age_sex_nonpad = age_sex[age_sex!=self.age_sex_pad_id]\n",
    "        assert N_visit == len(visit_ids_unique) == len(age_sex_nonpad)\n",
    "        visit_x = self.age_sex_emb(age_sex_nonpad.to(self.device))\n",
    "        hg['visit'].x = visit_x\n",
    "        hg['visit'].num_nodes = N_visit\n",
    "        \n",
    "        # build diag nodes\n",
    "        gid_occ = id_seq[occ_pos]\n",
    "        x_occ = self.token_emb(gid_occ) # [N_occ, d]\n",
    "        hg['occ'].x = x_occ\n",
    "        hg['occ'].num_nodes = N_occ\n",
    "\n",
    "        # build edges between diag nodes and virtual visit nodes\n",
    "        occ_visit_lid = visit_lid_full[occ_pos]\n",
    "        e_v2o = torch.stack([occ_visit_lid, torch.arange(N_occ, device=self.device)], dim=0)\n",
    "        e_o2v = torch.stack([torch.arange(N_occ, device=self.device), occ_visit_lid], dim=0)\n",
    "        hg['visit','contains','occ'].edge_index = e_v2o\n",
    "        hg['occ','contained_by','visit'].edge_index = e_o2v\n",
    "        \n",
    "        # build forward edges between virtual visit nodes\n",
    "        if N_visit > 1:\n",
    "            src = torch.arange(0, N_visit - 1, device=self.device)\n",
    "            dst = torch.arange(1, N_visit, device=self.device)\n",
    "            e_next = torch.stack([src, dst], dim=0) # [2, N_visit-1]\n",
    "        else:\n",
    "            e_next = torch.empty(2, 0, dtype=torch.long, device=self.device)\n",
    "        hg['visit','next','visit'].edge_index = e_next\n",
    "        return hg"
   ]
  },
  {
   "cell_type": "code",
   "execution_count": 18,
   "id": "71c2fed7",
   "metadata": {},
   "outputs": [
    {
     "name": "stderr",
     "output_type": "stream",
     "text": [
      "Epoch 001: 100%|██████████| 98/98 [00:02<00:00, 34.62it/s, loss=0.6911]\n",
      "Running inference: 100%|██████████| 198/198 [00:02<00:00, 69.18it/s]\n",
      "Running inference: 100%|██████████| 197/197 [00:02<00:00, 68.97it/s]\n"
     ]
    },
    {
     "name": "stdout",
     "output_type": "stream",
     "text": [
      "Validation: {'precision': 0.959999999808, 'recall': 0.015051740357431636, 'f1': 0.029638777096277897, 'auc': 0.7704330781405844, 'prauc': 0.7770513222330104}\n",
      "Test:      {'precision': 0.9302325579232017, 'recall': 0.012543116964526363, 'f1': 0.024752474984822644, 'auc': 0.7659138279811168, 'prauc': 0.7691051707667798}\n"
     ]
    },
    {
     "name": "stderr",
     "output_type": "stream",
     "text": [
      "Epoch 002: 100%|██████████| 98/98 [00:02<00:00, 38.05it/s, loss=0.5837]\n",
      "Running inference: 100%|██████████| 198/198 [00:03<00:00, 63.00it/s]\n",
      "Running inference: 100%|██████████| 197/197 [00:02<00:00, 69.07it/s]\n"
     ]
    },
    {
     "name": "stdout",
     "output_type": "stream",
     "text": [
      "Validation: {'precision': 0.7881873727055472, 'recall': 0.6067732831589628, 'f1': 0.6856839072011993, 'auc': 0.8003868532781854, 'prauc': 0.8104067202089644}\n",
      "Test:      {'precision': 0.7753535353504026, 'recall': 0.6017560363731522, 'f1': 0.6776129894273446, 'auc': 0.7939638514617111, 'prauc': 0.80486566147787}\n"
     ]
    },
    {
     "name": "stderr",
     "output_type": "stream",
     "text": [
      "Epoch 003: 100%|██████████| 98/98 [00:02<00:00, 37.99it/s, loss=0.5347]\n",
      "Running inference: 100%|██████████| 198/198 [00:02<00:00, 69.05it/s]\n",
      "Running inference: 100%|██████████| 197/197 [00:02<00:00, 69.17it/s]\n"
     ]
    },
    {
     "name": "stdout",
     "output_type": "stream",
     "text": [
      "Validation: {'precision': 0.6251354279509748, 'recall': 0.904672311066464, 'f1': 0.7393644236632567, 'auc': 0.8209515768769788, 'prauc': 0.8334175490299097}\n",
      "Test:      {'precision': 0.6222126001285512, 'recall': 0.9012229539012192, 'f1': 0.736168027952711, 'auc': 0.8142986500042533, 'prauc': 0.8307124054668654}\n"
     ]
    },
    {
     "name": "stderr",
     "output_type": "stream",
     "text": [
      "Epoch 004: 100%|██████████| 98/98 [00:02<00:00, 37.85it/s, loss=0.5080]\n",
      "Running inference: 100%|██████████| 198/198 [00:02<00:00, 69.33it/s]\n",
      "Running inference: 100%|██████████| 197/197 [00:02<00:00, 69.16it/s]\n"
     ]
    },
    {
     "name": "stdout",
     "output_type": "stream",
     "text": [
      "Validation: {'precision': 0.8080495356005881, 'recall': 0.6547507055482761, 'f1': 0.7233673950177633, 'auc': 0.8289740375363124, 'prauc': 0.8414506428557634}\n",
      "Test:      {'precision': 0.8011538461507648, 'recall': 0.6531828159277103, 'f1': 0.7196406929245545, 'auc': 0.820117559004745, 'prauc': 0.8366285046698861}\n"
     ]
    },
    {
     "name": "stderr",
     "output_type": "stream",
     "text": [
      "Epoch 005: 100%|██████████| 98/98 [00:02<00:00, 38.23it/s, loss=0.4777]\n",
      "Running inference: 100%|██████████| 198/198 [00:02<00:00, 69.36it/s]\n",
      "Running inference: 100%|██████████| 197/197 [00:02<00:00, 69.26it/s]\n"
     ]
    },
    {
     "name": "stdout",
     "output_type": "stream",
     "text": [
      "Validation: {'precision': 0.683676059911948, 'recall': 0.8444653496367374, 'f1': 0.7556116673315739, 'auc': 0.8283536636521589, 'prauc': 0.8407354216887513}\n",
      "Test:      {'precision': 0.6851570415382848, 'recall': 0.8482282847260952, 'f1': 0.7580215727481334, 'auc': 0.8266461708511451, 'prauc': 0.8399842049544898}\n"
     ]
    },
    {
     "name": "stderr",
     "output_type": "stream",
     "text": [
      "Epoch 006: 100%|██████████| 98/98 [00:02<00:00, 38.01it/s, loss=0.4528]\n",
      "Running inference: 100%|██████████| 198/198 [00:02<00:00, 69.32it/s]\n",
      "Running inference: 100%|██████████| 197/197 [00:03<00:00, 62.89it/s]\n"
     ]
    },
    {
     "name": "stdout",
     "output_type": "stream",
     "text": [
      "Validation: {'precision': 0.8317555938002076, 'recall': 0.6061461273107365, 'f1': 0.7012515822781745, 'auc': 0.8274947153428825, 'prauc': 0.8416304339144863}\n",
      "Test:      {'precision': 0.8247899159629211, 'recall': 0.6155534650341312, 'f1': 0.7049739581125, 'auc': 0.824791430413636, 'prauc': 0.8408702689906271}\n"
     ]
    },
    {
     "name": "stderr",
     "output_type": "stream",
     "text": [
      "Epoch 007: 100%|██████████| 98/98 [00:02<00:00, 38.56it/s, loss=0.4316]\n",
      "Running inference: 100%|██████████| 198/198 [00:02<00:00, 69.38it/s]\n",
      "Running inference: 100%|██████████| 197/197 [00:02<00:00, 69.15it/s]\n"
     ]
    },
    {
     "name": "stdout",
     "output_type": "stream",
     "text": [
      "Validation: {'precision': 0.7827464788704833, 'recall': 0.6970837253035526, 'f1': 0.7374357223322714, 'auc': 0.8279638263097806, 'prauc': 0.8372836211152175}\n",
      "Test:      {'precision': 0.7782470960901857, 'recall': 0.6933207902141947, 'f1': 0.7333333283475542, 'auc': 0.8231316317578433, 'prauc': 0.8331045368819365}\n"
     ]
    },
    {
     "name": "stderr",
     "output_type": "stream",
     "text": [
      "Epoch 008: 100%|██████████| 98/98 [00:02<00:00, 37.71it/s, loss=0.4036]\n",
      "Running inference: 100%|██████████| 198/198 [00:02<00:00, 69.06it/s]\n",
      "Running inference: 100%|██████████| 197/197 [00:02<00:00, 69.09it/s]\n"
     ]
    },
    {
     "name": "stdout",
     "output_type": "stream",
     "text": [
      "Validation: {'precision': 0.7302410741509605, 'recall': 0.7503919724027897, 'f1': 0.7401793949367746, 'auc': 0.8131028349715042, 'prauc': 0.8182544677644008}\n",
      "Test:      {'precision': 0.7319083969443301, 'recall': 0.7516462840992423, 'f1': 0.7416460346025507, 'auc': 0.8126383480131089, 'prauc': 0.8180127347689556}\n"
     ]
    },
    {
     "name": "stderr",
     "output_type": "stream",
     "text": [
      "Epoch 009: 100%|██████████| 98/98 [00:02<00:00, 38.06it/s, loss=0.3637]\n",
      "Running inference: 100%|██████████| 198/198 [00:02<00:00, 69.24it/s]\n",
      "Running inference: 100%|██████████| 197/197 [00:02<00:00, 69.17it/s]\n"
     ]
    },
    {
     "name": "stdout",
     "output_type": "stream",
     "text": [
      "Validation: {'precision': 0.7233323086359565, 'recall': 0.7378488554382633, 'f1': 0.7305184675222864, 'auc': 0.8019427865472759, 'prauc': 0.8096994729531066}\n",
      "Test:      {'precision': 0.720387761282277, 'recall': 0.7456883035410923, 'f1': 0.732819717649462, 'auc': 0.8041055051297422, 'prauc': 0.8139009275468847}\n"
     ]
    },
    {
     "name": "stderr",
     "output_type": "stream",
     "text": [
      "Epoch 010: 100%|██████████| 98/98 [00:02<00:00, 38.11it/s, loss=0.3516]\n",
      "Running inference: 100%|██████████| 198/198 [00:02<00:00, 69.00it/s]\n",
      "Running inference: 100%|██████████| 197/197 [00:02<00:00, 68.92it/s]\n"
     ]
    },
    {
     "name": "stdout",
     "output_type": "stream",
     "text": [
      "Validation: {'precision': 0.7773294203933334, 'recall': 0.6644716211957841, 'f1': 0.7164835115117293, 'auc': 0.8135726994899661, 'prauc': 0.8184530609702292}\n",
      "Test:      {'precision': 0.7664627563844316, 'recall': 0.6679209783610288, 'f1': 0.7138069655305896, 'auc': 0.8126484650536782, 'prauc': 0.8202677558286637}\n"
     ]
    },
    {
     "name": "stderr",
     "output_type": "stream",
     "text": [
      "Epoch 011: 100%|██████████| 98/98 [00:02<00:00, 37.77it/s, loss=0.3277]\n",
      "Running inference: 100%|██████████| 198/198 [00:03<00:00, 63.18it/s]\n",
      "Running inference: 100%|██████████| 197/197 [00:02<00:00, 69.22it/s]\n"
     ]
    },
    {
     "name": "stdout",
     "output_type": "stream",
     "text": [
      "Validation: {'precision': 0.7320037394804239, 'recall': 0.7365945437418107, 'f1': 0.7342919612372033, 'auc': 0.8090970050947119, 'prauc': 0.8107824031496137}\n",
      "Test:      {'precision': 0.7331887201712638, 'recall': 0.7419253684517343, 'f1': 0.7375311670677018, 'auc': 0.8107439950834203, 'prauc': 0.8177941064074278}\n",
      "\n",
      "Early stopping triggered (no improvement for 5 epochs).\n",
      "\n",
      "Best validation performance:\n",
      "{'precision': 0.8317555938002076, 'recall': 0.6061461273107365, 'f1': 0.7012515822781745, 'auc': 0.8274947153428825, 'prauc': 0.8416304339144863}\n",
      "Corresponding test performance:\n",
      "{'precision': 0.8247899159629211, 'recall': 0.6155534650341312, 'f1': 0.7049739581125, 'auc': 0.824791430413636, 'prauc': 0.8408702689906271}\n"
     ]
    },
    {
     "name": "stderr",
     "output_type": "stream",
     "text": [
      "Epoch 001: 100%|██████████| 98/98 [00:02<00:00, 38.22it/s, loss=0.7015]\n",
      "Running inference: 100%|██████████| 198/198 [00:02<00:00, 69.30it/s]\n",
      "Running inference: 100%|██████████| 197/197 [00:02<00:00, 69.13it/s]\n"
     ]
    },
    {
     "name": "stdout",
     "output_type": "stream",
     "text": [
      "Validation: {'precision': 0.580670303973927, 'recall': 0.9344622138572141, 'f1': 0.716260060166949, 'auc': 0.7621914344497048, 'prauc': 0.7541919766954186}\n",
      "Test:      {'precision': 0.578103616812164, 'recall': 0.9272499216026113, 'f1': 0.7121868931477968, 'auc': 0.7568665763683046, 'prauc': 0.751209033466367}\n"
     ]
    },
    {
     "name": "stderr",
     "output_type": "stream",
     "text": [
      "Epoch 002: 100%|██████████| 98/98 [00:02<00:00, 38.30it/s, loss=0.6014]\n",
      "Running inference: 100%|██████████| 198/198 [00:02<00:00, 69.35it/s]\n",
      "Running inference: 100%|██████████| 197/197 [00:02<00:00, 69.28it/s]\n"
     ]
    },
    {
     "name": "stdout",
     "output_type": "stream",
     "text": [
      "Validation: {'precision': 0.7189977798898859, 'recall': 0.7108811539645316, 'f1': 0.7149164251461249, 'auc': 0.7803778990761358, 'prauc': 0.7914089990632904}\n",
      "Test:      {'precision': 0.7032118591701568, 'recall': 0.7140169332056632, 'f1': 0.7085732017819661, 'auc': 0.775382723618055, 'prauc': 0.7854047158237297}\n"
     ]
    },
    {
     "name": "stderr",
     "output_type": "stream",
     "text": [
      "Epoch 003: 100%|██████████| 98/98 [00:02<00:00, 38.42it/s, loss=0.5584]\n",
      "Running inference: 100%|██████████| 198/198 [00:02<00:00, 69.38it/s]\n",
      "Running inference: 100%|██████████| 197/197 [00:02<00:00, 69.32it/s]\n"
     ]
    },
    {
     "name": "stdout",
     "output_type": "stream",
     "text": [
      "Validation: {'precision': 0.7386506935663977, 'recall': 0.7347130761971317, 'f1': 0.7366766181701767, 'auc': 0.805170700026294, 'prauc': 0.8038353223991703}\n",
      "Test:      {'precision': 0.7284788645457313, 'recall': 0.7403574788311685, 'f1': 0.7343701349669386, 'auc': 0.8034368241149981, 'prauc': 0.8034683902891367}\n"
     ]
    },
    {
     "name": "stderr",
     "output_type": "stream",
     "text": [
      "Epoch 004: 100%|██████████| 98/98 [00:02<00:00, 38.15it/s, loss=0.5347]\n",
      "Running inference: 100%|██████████| 198/198 [00:02<00:00, 69.25it/s]\n",
      "Running inference: 100%|██████████| 197/197 [00:03<00:00, 62.84it/s]\n"
     ]
    },
    {
     "name": "stdout",
     "output_type": "stream",
     "text": [
      "Validation: {'precision': 0.7190615835756039, 'recall': 0.768893069925466, 'f1': 0.7431428954428162, 'auc': 0.8116679220835721, 'prauc': 0.8202972229027347}\n",
      "Test:      {'precision': 0.714162348875319, 'recall': 0.7779868297247476, 'f1': 0.7447095852815636, 'auc': 0.8087606021300147, 'prauc': 0.8169155333779099}\n"
     ]
    },
    {
     "name": "stderr",
     "output_type": "stream",
     "text": [
      "Epoch 005: 100%|██████████| 98/98 [00:02<00:00, 37.83it/s, loss=0.4951]\n",
      "Running inference: 100%|██████████| 198/198 [00:02<00:00, 69.47it/s]\n",
      "Running inference: 100%|██████████| 197/197 [00:02<00:00, 69.32it/s]\n"
     ]
    },
    {
     "name": "stdout",
     "output_type": "stream",
     "text": [
      "Validation: {'precision': 0.6871768355721635, 'recall': 0.8334901222927767, 'f1': 0.7532945961494388, 'auc': 0.8135465763690851, 'prauc': 0.8197007147623676}\n",
      "Test:      {'precision': 0.6834921452467589, 'recall': 0.8322358105963241, 'f1': 0.7505656059057568, 'auc': 0.813080377118979, 'prauc': 0.8194140961219107}\n"
     ]
    },
    {
     "name": "stderr",
     "output_type": "stream",
     "text": [
      "Epoch 006: 100%|██████████| 98/98 [00:02<00:00, 38.23it/s, loss=0.4760]\n",
      "Running inference: 100%|██████████| 198/198 [00:02<00:00, 69.36it/s]\n",
      "Running inference: 100%|██████████| 197/197 [00:02<00:00, 69.32it/s]\n"
     ]
    },
    {
     "name": "stdout",
     "output_type": "stream",
     "text": [
      "Validation: {'precision': 0.6907189542465603, 'recall': 0.8284728755069662, 'f1': 0.753350437012159, 'auc': 0.8192708052321396, 'prauc': 0.8300243678531174}\n",
      "Test:      {'precision': 0.6930820856977463, 'recall': 0.8419567262438321, 'f1': 0.7603001507860634, 'auc': 0.8211164783437448, 'prauc': 0.8283551381498817}\n"
     ]
    },
    {
     "name": "stderr",
     "output_type": "stream",
     "text": [
      "Epoch 007: 100%|██████████| 98/98 [00:02<00:00, 38.29it/s, loss=0.4517]\n",
      "Running inference: 100%|██████████| 198/198 [00:02<00:00, 69.69it/s]\n",
      "Running inference: 100%|██████████| 197/197 [00:02<00:00, 69.72it/s]\n"
     ]
    },
    {
     "name": "stdout",
     "output_type": "stream",
     "text": [
      "Validation: {'precision': 0.7565126780105713, 'recall': 0.6829727187184604, 'f1': 0.7178642006797674, 'auc': 0.8094676017538259, 'prauc': 0.8235666142708452}\n",
      "Test:      {'precision': 0.7526881720404, 'recall': 0.6804640953255552, 'f1': 0.7147562532448634, 'auc': 0.8124446142362364, 'prauc': 0.8199641676902216}\n"
     ]
    },
    {
     "name": "stderr",
     "output_type": "stream",
     "text": [
      "Epoch 008: 100%|██████████| 98/98 [00:02<00:00, 39.23it/s, loss=0.4135]\n",
      "Running inference: 100%|██████████| 198/198 [00:02<00:00, 69.81it/s]\n",
      "Running inference: 100%|██████████| 197/197 [00:02<00:00, 70.07it/s]\n"
     ]
    },
    {
     "name": "stdout",
     "output_type": "stream",
     "text": [
      "Validation: {'precision': 0.7754297994241568, 'recall': 0.6788962057049893, 'f1': 0.7239591991660724, 'auc': 0.8187042851664178, 'prauc': 0.8291805869861966}\n",
      "Test:      {'precision': 0.7790780141816345, 'recall': 0.6889306992766104, 'f1': 0.7312364736318311, 'auc': 0.8251135650387291, 'prauc': 0.8318972368174867}\n"
     ]
    },
    {
     "name": "stderr",
     "output_type": "stream",
     "text": [
      "Epoch 009: 100%|██████████| 98/98 [00:02<00:00, 35.29it/s, loss=0.3946]\n",
      "Running inference: 100%|██████████| 198/198 [00:02<00:00, 70.09it/s]\n",
      "Running inference: 100%|██████████| 197/197 [00:02<00:00, 69.93it/s]\n"
     ]
    },
    {
     "name": "stdout",
     "output_type": "stream",
     "text": [
      "Validation: {'precision': 0.7730968218744527, 'recall': 0.6560050172447288, 'f1': 0.7097540238691562, 'auc': 0.813349648227059, 'prauc': 0.8256509055575709}\n",
      "Test:      {'precision': 0.7814717967845295, 'recall': 0.6560050172447288, 'f1': 0.7132628658164301, 'auc': 0.8174724310644486, 'prauc': 0.8245318001102355}\n"
     ]
    },
    {
     "name": "stderr",
     "output_type": "stream",
     "text": [
      "Epoch 010: 100%|██████████| 98/98 [00:02<00:00, 39.37it/s, loss=0.3773]\n",
      "Running inference: 100%|██████████| 198/198 [00:02<00:00, 69.81it/s]\n",
      "Running inference: 100%|██████████| 197/197 [00:02<00:00, 69.80it/s]\n"
     ]
    },
    {
     "name": "stdout",
     "output_type": "stream",
     "text": [
      "Validation: {'precision': 0.7350127550996971, 'recall': 0.7227971150808317, 'f1': 0.7288537499387581, 'auc': 0.8091645735516061, 'prauc': 0.8162414801506193}\n",
      "Test:      {'precision': 0.7360199937496532, 'recall': 0.7387895892106028, 'f1': 0.7374021859210275, 'auc': 0.8138235014322408, 'prauc': 0.8206729561858319}\n"
     ]
    },
    {
     "name": "stderr",
     "output_type": "stream",
     "text": [
      "Epoch 011: 100%|██████████| 98/98 [00:02<00:00, 39.35it/s, loss=0.3338]\n",
      "Running inference: 100%|██████████| 198/198 [00:02<00:00, 69.76it/s]\n",
      "Running inference: 100%|██████████| 197/197 [00:02<00:00, 69.66it/s]\n"
     ]
    },
    {
     "name": "stdout",
     "output_type": "stream",
     "text": [
      "Validation: {'precision': 0.8043875685520824, 'recall': 0.55189714643916, 'f1': 0.6546401290745127, 'auc': 0.7964037304218512, 'prauc': 0.8062947395424894}\n",
      "Test:      {'precision': 0.8041144901574057, 'recall': 0.56381310755546, 'f1': 0.6628571380089957, 'auc': 0.8081760284525408, 'prauc': 0.8133023612889461}\n",
      "\n",
      "Early stopping triggered (no improvement for 5 epochs).\n",
      "\n",
      "Best validation performance:\n",
      "{'precision': 0.6907189542465603, 'recall': 0.8284728755069662, 'f1': 0.753350437012159, 'auc': 0.8192708052321396, 'prauc': 0.8300243678531174}\n",
      "Corresponding test performance:\n",
      "{'precision': 0.6930820856977463, 'recall': 0.8419567262438321, 'f1': 0.7603001507860634, 'auc': 0.8211164783437448, 'prauc': 0.8283551381498817}\n"
     ]
    },
    {
     "name": "stderr",
     "output_type": "stream",
     "text": [
      "Epoch 001: 100%|██████████| 98/98 [00:02<00:00, 38.98it/s, loss=0.6634]\n",
      "Running inference: 100%|██████████| 198/198 [00:02<00:00, 69.74it/s]\n",
      "Running inference: 100%|██████████| 197/197 [00:02<00:00, 69.60it/s]\n"
     ]
    },
    {
     "name": "stdout",
     "output_type": "stream",
     "text": [
      "Validation: {'precision': 0.8354712771844091, 'recall': 0.4697397303215123, 'f1': 0.6013649090794521, 'auc': 0.7902186796591013, 'prauc': 0.7930198229741209}\n",
      "Test:      {'precision': 0.8292550299030492, 'recall': 0.4782063342725676, 'f1': 0.6066030184288423, 'auc': 0.7846864245925627, 'prauc': 0.7922473283623459}\n"
     ]
    },
    {
     "name": "stderr",
     "output_type": "stream",
     "text": [
      "Epoch 002: 100%|██████████| 98/98 [00:02<00:00, 39.15it/s, loss=0.5879]\n",
      "Running inference: 100%|██████████| 198/198 [00:03<00:00, 63.03it/s]\n",
      "Running inference: 100%|██████████| 197/197 [00:02<00:00, 69.59it/s]\n"
     ]
    },
    {
     "name": "stdout",
     "output_type": "stream",
     "text": [
      "Validation: {'precision': 0.6691635455663691, 'recall': 0.8403888366232662, 'f1': 0.7450653272835537, 'auc': 0.79739640901533, 'prauc': 0.8016333592899364}\n",
      "Test:      {'precision': 0.6648365360602325, 'recall': 0.8353715898374557, 'f1': 0.7404113346956809, 'auc': 0.7914853778563652, 'prauc': 0.796729738729867}\n"
     ]
    },
    {
     "name": "stderr",
     "output_type": "stream",
     "text": [
      "Epoch 003: 100%|██████████| 98/98 [00:02<00:00, 38.96it/s, loss=0.5447]\n",
      "Running inference: 100%|██████████| 198/198 [00:02<00:00, 69.57it/s]\n",
      "Running inference: 100%|██████████| 197/197 [00:02<00:00, 69.39it/s]\n"
     ]
    },
    {
     "name": "stdout",
     "output_type": "stream",
     "text": [
      "Validation: {'precision': 0.7531155271109696, 'recall': 0.7011602383170237, 'f1': 0.726209803383367, 'auc': 0.8095035712818083, 'prauc': 0.8150438115230165}\n",
      "Test:      {'precision': 0.7423785594614996, 'recall': 0.6948886798347604, 'f1': 0.7178490393827901, 'auc': 0.8036373025855834, 'prauc': 0.8132832687131353}\n"
     ]
    },
    {
     "name": "stderr",
     "output_type": "stream",
     "text": [
      "Epoch 004: 100%|██████████| 98/98 [00:02<00:00, 39.07it/s, loss=0.4913]\n",
      "Running inference: 100%|██████████| 198/198 [00:02<00:00, 69.24it/s]\n",
      "Running inference: 100%|██████████| 197/197 [00:02<00:00, 69.15it/s]\n"
     ]
    },
    {
     "name": "stdout",
     "output_type": "stream",
     "text": [
      "Validation: {'precision': 0.6630143657154541, 'recall': 0.8538726873601321, 'f1': 0.7464363985858822, 'auc': 0.8147634114344317, 'prauc': 0.825960803201128}\n",
      "Test:      {'precision': 0.6757553426659894, 'recall': 0.8626528692353006, 'f1': 0.7578512347411301, 'auc': 0.8182496311810211, 'prauc': 0.8277636122070366}\n"
     ]
    },
    {
     "name": "stderr",
     "output_type": "stream",
     "text": [
      "Epoch 005: 100%|██████████| 98/98 [00:02<00:00, 38.86it/s, loss=0.4766]\n",
      "Running inference: 100%|██████████| 198/198 [00:02<00:00, 69.41it/s]\n",
      "Running inference: 100%|██████████| 197/197 [00:02<00:00, 68.90it/s]\n"
     ]
    },
    {
     "name": "stdout",
     "output_type": "stream",
     "text": [
      "Validation: {'precision': 0.7474681476617202, 'recall': 0.7174662903709079, 'f1': 0.7321599949997543, 'auc': 0.8080436404819555, 'prauc': 0.8163258305415428}\n",
      "Test:      {'precision': 0.7471302066226726, 'recall': 0.7143305111297763, 'f1': 0.7303622906077435, 'auc': 0.811909065422019, 'prauc': 0.8228527895895226}\n"
     ]
    },
    {
     "name": "stderr",
     "output_type": "stream",
     "text": [
      "Epoch 006: 100%|██████████| 98/98 [00:02<00:00, 38.55it/s, loss=0.4593]\n",
      "Running inference: 100%|██████████| 198/198 [00:02<00:00, 69.24it/s]\n",
      "Running inference: 100%|██████████| 197/197 [00:03<00:00, 63.25it/s]\n"
     ]
    },
    {
     "name": "stdout",
     "output_type": "stream",
     "text": [
      "Validation: {'precision': 0.7859848484818713, 'recall': 0.6506741925348051, 'f1': 0.7119574491506772, 'auc': 0.8147561773394184, 'prauc': 0.8201633168159168}\n",
      "Test:      {'precision': 0.7851796407156244, 'recall': 0.6578864847894077, 'f1': 0.7159187802267029, 'auc': 0.8189095541606455, 'prauc': 0.8260998289672122}\n"
     ]
    },
    {
     "name": "stderr",
     "output_type": "stream",
     "text": [
      "Epoch 007: 100%|██████████| 98/98 [00:02<00:00, 39.33it/s, loss=0.4269]\n",
      "Running inference: 100%|██████████| 198/198 [00:02<00:00, 69.78it/s]\n",
      "Running inference: 100%|██████████| 197/197 [00:02<00:00, 69.57it/s]\n"
     ]
    },
    {
     "name": "stdout",
     "output_type": "stream",
     "text": [
      "Validation: {'precision': 0.7129788450522785, 'recall': 0.7820633427382188, 'f1': 0.7459249239750974, 'auc': 0.8147052372537005, 'prauc': 0.8205665867816828}\n",
      "Test:      {'precision': 0.7184886068626523, 'recall': 0.7811226089658793, 'f1': 0.7484975911603196, 'auc': 0.8158733849856071, 'prauc': 0.8235879235591741}\n"
     ]
    },
    {
     "name": "stderr",
     "output_type": "stream",
     "text": [
      "Epoch 008: 100%|██████████| 98/98 [00:02<00:00, 38.81it/s, loss=0.3966]\n",
      "Running inference: 100%|██████████| 198/198 [00:02<00:00, 69.96it/s]\n",
      "Running inference: 100%|██████████| 197/197 [00:02<00:00, 69.88it/s]\n"
     ]
    },
    {
     "name": "stdout",
     "output_type": "stream",
     "text": [
      "Validation: {'precision': 0.7152317880774108, 'recall': 0.7789275634970871, 'f1': 0.7457220004106305, 'auc': 0.8105508070085117, 'prauc': 0.8190087808709087}\n",
      "Test:      {'precision': 0.7178232075994304, 'recall': 0.7817497648141055, 'f1': 0.748423891734549, 'auc': 0.8157773486005012, 'prauc': 0.8242116951155187}\n"
     ]
    },
    {
     "name": "stderr",
     "output_type": "stream",
     "text": [
      "Epoch 009: 100%|██████████| 98/98 [00:02<00:00, 39.25it/s, loss=0.3745]\n",
      "Running inference: 100%|██████████| 198/198 [00:02<00:00, 69.91it/s]\n",
      "Running inference: 100%|██████████| 197/197 [00:02<00:00, 69.59it/s]\n"
     ]
    },
    {
     "name": "stdout",
     "output_type": "stream",
     "text": [
      "Validation: {'precision': 0.7015481651356034, 'recall': 0.7673251803049003, 'f1': 0.7329639009536152, 'auc': 0.804776492084845, 'prauc': 0.807941874095086}\n",
      "Test:      {'precision': 0.7054419809942256, 'recall': 0.7682659140772397, 'f1': 0.7355148554091602, 'auc': 0.8066981351928555, 'prauc': 0.8140939575628978}\n",
      "\n",
      "Early stopping triggered (no improvement for 5 epochs).\n",
      "\n",
      "Best validation performance:\n",
      "{'precision': 0.6630143657154541, 'recall': 0.8538726873601321, 'f1': 0.7464363985858822, 'auc': 0.8147634114344317, 'prauc': 0.825960803201128}\n",
      "Corresponding test performance:\n",
      "{'precision': 0.6757553426659894, 'recall': 0.8626528692353006, 'f1': 0.7578512347411301, 'auc': 0.8182496311810211, 'prauc': 0.8277636122070366}\n"
     ]
    },
    {
     "name": "stderr",
     "output_type": "stream",
     "text": [
      "Epoch 001: 100%|██████████| 98/98 [00:02<00:00, 39.38it/s, loss=0.6641]\n",
      "Running inference: 100%|██████████| 198/198 [00:02<00:00, 69.63it/s]\n",
      "Running inference: 100%|██████████| 197/197 [00:02<00:00, 69.84it/s]\n"
     ]
    },
    {
     "name": "stdout",
     "output_type": "stream",
     "text": [
      "Validation: {'precision': 0.6700372538566524, 'recall': 0.7895892129169345, 'f1': 0.724917225490647, 'auc': 0.7842420612589195, 'prauc': 0.7939474107976422}\n",
      "Test:      {'precision': 0.6648059542778714, 'recall': 0.7842583882070108, 'f1': 0.7196086844291155, 'auc': 0.7761030468398846, 'prauc': 0.7834304957142038}\n"
     ]
    },
    {
     "name": "stderr",
     "output_type": "stream",
     "text": [
      "Epoch 002: 100%|██████████| 98/98 [00:02<00:00, 35.60it/s, loss=0.5709]\n",
      "Running inference: 100%|██████████| 198/198 [00:02<00:00, 69.86it/s]\n",
      "Running inference: 100%|██████████| 197/197 [00:02<00:00, 69.78it/s]\n"
     ]
    },
    {
     "name": "stdout",
     "output_type": "stream",
     "text": [
      "Validation: {'precision': 0.7488231338239785, 'recall': 0.6983380370000052, 'f1': 0.7226999787778756, 'auc': 0.8029722384570721, 'prauc': 0.808140858408077}\n",
      "Test:      {'precision': 0.7342430149423839, 'recall': 0.7086861084957394, 'f1': 0.7212382270082027, 'auc': 0.7973793844913317, 'prauc': 0.8092121607388201}\n"
     ]
    },
    {
     "name": "stderr",
     "output_type": "stream",
     "text": [
      "Epoch 003: 100%|██████████| 98/98 [00:02<00:00, 39.32it/s, loss=0.5305]\n",
      "Running inference: 100%|██████████| 198/198 [00:02<00:00, 70.06it/s]\n",
      "Running inference: 100%|██████████| 197/197 [00:02<00:00, 69.96it/s]\n"
     ]
    },
    {
     "name": "stdout",
     "output_type": "stream",
     "text": [
      "Validation: {'precision': 0.7186654643801663, 'recall': 0.7497648165545633, 'f1': 0.7338858145211689, 'auc': 0.8069821375123093, 'prauc': 0.8172127436449604}\n",
      "Test:      {'precision': 0.7086374695842195, 'recall': 0.7306365631836607, 'f1': 0.7194688849171186, 'auc': 0.8001771237102661, 'prauc': 0.8156979661025093}\n"
     ]
    },
    {
     "name": "stderr",
     "output_type": "stream",
     "text": [
      "Epoch 004: 100%|██████████| 98/98 [00:02<00:00, 39.69it/s, loss=0.5121]\n",
      "Running inference: 100%|██████████| 198/198 [00:02<00:00, 69.85it/s]\n",
      "Running inference: 100%|██████████| 197/197 [00:02<00:00, 69.74it/s]\n"
     ]
    },
    {
     "name": "stdout",
     "output_type": "stream",
     "text": [
      "Validation: {'precision': 0.8484340044695278, 'recall': 0.4756977108796623, 'f1': 0.6096041746181796, 'auc': 0.7954015068418966, 'prauc': 0.8103632238737036}\n",
      "Test:      {'precision': 0.85120925341298, 'recall': 0.5076826591392045, 'f1': 0.6360243520249542, 'auc': 0.7921704676035751, 'prauc': 0.8119626251600542}\n"
     ]
    },
    {
     "name": "stderr",
     "output_type": "stream",
     "text": [
      "Epoch 005: 100%|██████████| 98/98 [00:02<00:00, 39.42it/s, loss=0.4879]\n",
      "Running inference: 100%|██████████| 198/198 [00:02<00:00, 69.90it/s]\n",
      "Running inference: 100%|██████████| 197/197 [00:02<00:00, 69.90it/s]\n"
     ]
    },
    {
     "name": "stdout",
     "output_type": "stream",
     "text": [
      "Validation: {'precision': 0.8177037686204308, 'recall': 0.5851364063951549, 'f1': 0.6821421994851371, 'auc': 0.8071502799845953, 'prauc': 0.8197710591228811}\n",
      "Test:      {'precision': 0.8118600682559222, 'recall': 0.5967387895873417, 'f1': 0.6878727585336137, 'auc': 0.8042491067055846, 'prauc': 0.8205834364077669}\n"
     ]
    },
    {
     "name": "stderr",
     "output_type": "stream",
     "text": [
      "Epoch 006: 100%|██████████| 98/98 [00:02<00:00, 38.57it/s, loss=0.4547]\n",
      "Running inference: 100%|██████████| 198/198 [00:03<00:00, 63.66it/s]\n",
      "Running inference: 100%|██████████| 197/197 [00:02<00:00, 69.51it/s]\n"
     ]
    },
    {
     "name": "stdout",
     "output_type": "stream",
     "text": [
      "Validation: {'precision': 0.6900440043985423, 'recall': 0.7867670115999161, 'f1': 0.7352380902573884, 'auc': 0.7959403464468386, 'prauc': 0.8056221049762371}\n",
      "Test:      {'precision': 0.6821621621603186, 'recall': 0.7914706804616135, 'f1': 0.7327623698257899, 'auc': 0.7895789952117708, 'prauc': 0.8023257515975493}\n"
     ]
    },
    {
     "name": "stderr",
     "output_type": "stream",
     "text": [
      "Epoch 007: 100%|██████████| 98/98 [00:02<00:00, 38.65it/s, loss=0.4344]\n",
      "Running inference: 100%|██████████| 198/198 [00:02<00:00, 69.82it/s]\n",
      "Running inference: 100%|██████████| 197/197 [00:02<00:00, 69.59it/s]\n"
     ]
    },
    {
     "name": "stdout",
     "output_type": "stream",
     "text": [
      "Validation: {'precision': 0.7825751734742383, 'recall': 0.636563185949713, 'f1': 0.7020577505407315, 'auc': 0.8068882952242212, 'prauc': 0.8183188966050994}\n",
      "Test:      {'precision': 0.7677972418905412, 'recall': 0.6459705236731077, 'f1': 0.7016348724189343, 'auc': 0.8040501382410543, 'prauc': 0.8183599279414728}\n"
     ]
    },
    {
     "name": "stderr",
     "output_type": "stream",
     "text": [
      "Epoch 008: 100%|██████████| 98/98 [00:02<00:00, 38.31it/s, loss=0.4101]\n",
      "Running inference: 100%|██████████| 198/198 [00:02<00:00, 69.79it/s]\n",
      "Running inference: 100%|██████████| 197/197 [00:02<00:00, 69.64it/s]\n"
     ]
    },
    {
     "name": "stdout",
     "output_type": "stream",
     "text": [
      "Validation: {'precision': 0.757820738134419, 'recall': 0.6760740043879709, 'f1': 0.7146171643874323, 'auc': 0.8035596570194986, 'prauc': 0.8113659310458204}\n",
      "Test:      {'precision': 0.7485519591115893, 'recall': 0.6889306992766104, 'f1': 0.7175048937652393, 'auc': 0.8024444984691056, 'prauc': 0.8137253045912622}\n"
     ]
    },
    {
     "name": "stderr",
     "output_type": "stream",
     "text": [
      "Epoch 009: 100%|██████████| 98/98 [00:02<00:00, 38.34it/s, loss=0.3661]\n",
      "Running inference: 100%|██████████| 198/198 [00:02<00:00, 69.78it/s]\n",
      "Running inference: 100%|██████████| 197/197 [00:02<00:00, 69.97it/s]\n"
     ]
    },
    {
     "name": "stdout",
     "output_type": "stream",
     "text": [
      "Validation: {'precision': 0.6678472046530032, 'recall': 0.8278457196587399, 'f1': 0.7392887097009031, 'auc': 0.7978898848161269, 'prauc': 0.7984205616599789}\n",
      "Test:      {'precision': 0.6646751306928935, 'recall': 0.8372530573821347, 'f1': 0.7410491207925177, 'auc': 0.8013077659108079, 'prauc': 0.8121379376356598}\n"
     ]
    },
    {
     "name": "stderr",
     "output_type": "stream",
     "text": [
      "Epoch 010: 100%|██████████| 98/98 [00:02<00:00, 38.55it/s, loss=0.3371]\n",
      "Running inference: 100%|██████████| 198/198 [00:02<00:00, 69.91it/s]\n",
      "Running inference: 100%|██████████| 197/197 [00:03<00:00, 63.21it/s]\n"
     ]
    },
    {
     "name": "stdout",
     "output_type": "stream",
     "text": [
      "Validation: {'precision': 0.7368922783580016, 'recall': 0.7271872060184159, 'f1': 0.732007570755485, 'auc': 0.7998109389363006, 'prauc': 0.8065647583298532}\n",
      "Test:      {'precision': 0.7181126331789404, 'recall': 0.7397303229829423, 'f1': 0.7287611936395649, 'auc': 0.798792397824182, 'prauc': 0.8076265192875982}\n",
      "\n",
      "Early stopping triggered (no improvement for 5 epochs).\n",
      "\n",
      "Best validation performance:\n",
      "{'precision': 0.8177037686204308, 'recall': 0.5851364063951549, 'f1': 0.6821421994851371, 'auc': 0.8071502799845953, 'prauc': 0.8197710591228811}\n",
      "Corresponding test performance:\n",
      "{'precision': 0.8118600682559222, 'recall': 0.5967387895873417, 'f1': 0.6878727585336137, 'auc': 0.8042491067055846, 'prauc': 0.8205834364077669}\n"
     ]
    },
    {
     "name": "stderr",
     "output_type": "stream",
     "text": [
      "Epoch 001: 100%|██████████| 98/98 [00:02<00:00, 38.54it/s, loss=0.6856]\n",
      "Running inference: 100%|██████████| 198/198 [00:02<00:00, 69.70it/s]\n",
      "Running inference: 100%|██████████| 197/197 [00:02<00:00, 69.78it/s]\n"
     ]
    },
    {
     "name": "stdout",
     "output_type": "stream",
     "text": [
      "Validation: {'precision': 0.7702485966288283, 'recall': 0.6023831922213786, 'f1': 0.6760513763850877, 'auc': 0.7860914275069832, 'prauc': 0.7941306902174545}\n",
      "Test:      {'precision': 0.7588461538432353, 'recall': 0.6186892442752628, 'f1': 0.6816375835793758, 'auc': 0.7806320583345538, 'prauc': 0.7898564629805873}\n"
     ]
    },
    {
     "name": "stderr",
     "output_type": "stream",
     "text": [
      "Epoch 002: 100%|██████████| 98/98 [00:02<00:00, 38.39it/s, loss=0.5900]\n",
      "Running inference: 100%|██████████| 198/198 [00:02<00:00, 69.93it/s]\n",
      "Running inference: 100%|██████████| 197/197 [00:02<00:00, 69.90it/s]\n"
     ]
    },
    {
     "name": "stdout",
     "output_type": "stream",
     "text": [
      "Validation: {'precision': 0.8045685279153784, 'recall': 0.5964252116632286, 'f1': 0.6850351112613262, 'auc': 0.8051929046790427, 'prauc': 0.81592016865763}\n",
      "Test:      {'precision': 0.7776882803029493, 'recall': 0.6055189714625101, 'f1': 0.6808885705334565, 'auc': 0.8029890569861184, 'prauc': 0.8139349910605767}\n"
     ]
    },
    {
     "name": "stderr",
     "output_type": "stream",
     "text": [
      "Epoch 003: 100%|██████████| 98/98 [00:02<00:00, 38.71it/s, loss=0.5477]\n",
      "Running inference: 100%|██████████| 198/198 [00:02<00:00, 69.92it/s]\n",
      "Running inference: 100%|██████████| 197/197 [00:02<00:00, 69.73it/s]\n"
     ]
    },
    {
     "name": "stdout",
     "output_type": "stream",
     "text": [
      "Validation: {'precision': 0.863237872584084, 'recall': 0.4631545939151359, 'f1': 0.6028571383095935, 'auc': 0.8074037244939122, 'prauc': 0.8185993379808768}\n",
      "Test:      {'precision': 0.8605577689194049, 'recall': 0.47412982125909653, 'f1': 0.611403149480547, 'auc': 0.8017957998678241, 'prauc': 0.817011520697463}\n"
     ]
    },
    {
     "name": "stderr",
     "output_type": "stream",
     "text": [
      "Epoch 004: 100%|██████████| 98/98 [00:02<00:00, 38.73it/s, loss=0.5156]\n",
      "Running inference: 100%|██████████| 198/198 [00:02<00:00, 69.95it/s]\n",
      "Running inference: 100%|██████████| 197/197 [00:02<00:00, 70.03it/s]\n"
     ]
    },
    {
     "name": "stdout",
     "output_type": "stream",
     "text": [
      "Validation: {'precision': 0.8337396391963251, 'recall': 0.536218250233502, 'f1': 0.652671750958526, 'auc': 0.812208972106435, 'prauc': 0.8208726523739975}\n",
      "Test:      {'precision': 0.8341369334578875, 'recall': 0.5424898087157651, 'f1': 0.6574197178135951, 'auc': 0.8100156688294986, 'prauc': 0.8216022841726572}\n"
     ]
    },
    {
     "name": "stderr",
     "output_type": "stream",
     "text": [
      "Epoch 005: 100%|██████████| 98/98 [00:02<00:00, 34.50it/s, loss=0.4922]\n",
      "Running inference: 100%|██████████| 198/198 [00:02<00:00, 69.79it/s]\n",
      "Running inference: 100%|██████████| 197/197 [00:02<00:00, 69.74it/s]\n"
     ]
    },
    {
     "name": "stdout",
     "output_type": "stream",
     "text": [
      "Validation: {'precision': 0.7449340623970894, 'recall': 0.7262464722460764, 'f1': 0.73547157327729, 'auc': 0.8094597648175617, 'prauc': 0.8173576676739273}\n",
      "Test:      {'precision': 0.7379199999976387, 'recall': 0.7231106930049448, 'f1': 0.7304402864141013, 'auc': 0.8095040787780226, 'prauc': 0.818427579391825}\n"
     ]
    },
    {
     "name": "stderr",
     "output_type": "stream",
     "text": [
      "Epoch 006: 100%|██████████| 98/98 [00:02<00:00, 38.53it/s, loss=0.4654]\n",
      "Running inference: 100%|██████████| 198/198 [00:02<00:00, 69.38it/s]\n",
      "Running inference: 100%|██████████| 197/197 [00:02<00:00, 69.76it/s]\n"
     ]
    },
    {
     "name": "stdout",
     "output_type": "stream",
     "text": [
      "Validation: {'precision': 0.6689403166853376, 'recall': 0.8610849796147347, 'f1': 0.752947623264342, 'auc': 0.8221167685418145, 'prauc': 0.8313893320374641}\n",
      "Test:      {'precision': 0.6645858343321379, 'recall': 0.8679836939452242, 'f1': 0.7527875936718254, 'auc': 0.8225094589295969, 'prauc': 0.830674720982248}\n"
     ]
    },
    {
     "name": "stderr",
     "output_type": "stream",
     "text": [
      "Epoch 007: 100%|██████████| 98/98 [00:02<00:00, 38.35it/s, loss=0.4383]\n",
      "Running inference: 100%|██████████| 198/198 [00:02<00:00, 69.82it/s]\n",
      "Running inference: 100%|██████████| 197/197 [00:02<00:00, 69.70it/s]\n"
     ]
    },
    {
     "name": "stdout",
     "output_type": "stream",
     "text": [
      "Validation: {'precision': 0.7629009762874376, 'recall': 0.6861084979595921, 'f1': 0.7224698645840533, 'auc': 0.818157256967815, 'prauc': 0.8297876403946733}\n",
      "Test:      {'precision': 0.7672913117520705, 'recall': 0.7061774851028342, 'f1': 0.7354670100290603, 'auc': 0.8241824449716043, 'prauc': 0.8330753922492952}\n"
     ]
    },
    {
     "name": "stderr",
     "output_type": "stream",
     "text": [
      "Epoch 008: 100%|██████████| 98/98 [00:02<00:00, 38.57it/s, loss=0.3912]\n",
      "Running inference: 100%|██████████| 198/198 [00:02<00:00, 70.00it/s]\n",
      "Running inference: 100%|██████████| 197/197 [00:02<00:00, 69.89it/s]\n"
     ]
    },
    {
     "name": "stdout",
     "output_type": "stream",
     "text": [
      "Validation: {'precision': 0.716487350972037, 'recall': 0.7726560050148239, 'f1': 0.7435123667610559, 'auc': 0.8146642440486256, 'prauc': 0.8243556149429234}\n",
      "Test:      {'precision': 0.7235465116258036, 'recall': 0.7804954531176529, 'f1': 0.7509428219772968, 'auc': 0.8255300247087325, 'prauc': 0.833089355530485}\n"
     ]
    },
    {
     "name": "stderr",
     "output_type": "stream",
     "text": [
      "Epoch 009: 100%|██████████| 98/98 [00:02<00:00, 38.82it/s, loss=0.3788]\n",
      "Running inference: 100%|██████████| 198/198 [00:03<00:00, 63.20it/s]\n",
      "Running inference: 100%|██████████| 197/197 [00:02<00:00, 69.67it/s]\n"
     ]
    },
    {
     "name": "stdout",
     "output_type": "stream",
     "text": [
      "Validation: {'precision': 0.6968482905964294, 'recall': 0.818124804011232, 'f1': 0.752632333123048, 'auc': 0.8112481938624934, 'prauc': 0.8215884592362738}\n",
      "Test:      {'precision': 0.6947812335247897, 'recall': 0.8265914079622873, 'f1': 0.7549763662225382, 'auc': 0.8214937785233851, 'prauc': 0.8330624911794986}\n"
     ]
    },
    {
     "name": "stderr",
     "output_type": "stream",
     "text": [
      "Epoch 010: 100%|██████████| 98/98 [00:02<00:00, 38.74it/s, loss=0.3523]\n",
      "Running inference: 100%|██████████| 198/198 [00:02<00:00, 69.76it/s]\n",
      "Running inference: 100%|██████████| 197/197 [00:02<00:00, 69.65it/s]\n"
     ]
    },
    {
     "name": "stdout",
     "output_type": "stream",
     "text": [
      "Validation: {'precision': 0.697452229297512, 'recall': 0.824082784569382, 'f1': 0.7554980545408695, 'auc': 0.820345620946081, 'prauc': 0.8256009045944657}\n",
      "Test:      {'precision': 0.6878914404992488, 'recall': 0.8265914079622873, 'f1': 0.7508901816229057, 'auc': 0.8216272127251232, 'prauc': 0.8269238722697929}\n"
     ]
    },
    {
     "name": "stderr",
     "output_type": "stream",
     "text": [
      "Epoch 011: 100%|██████████| 98/98 [00:02<00:00, 37.56it/s, loss=0.3289]\n",
      "Running inference: 100%|██████████| 198/198 [00:02<00:00, 66.34it/s]\n",
      "Running inference: 100%|██████████| 197/197 [00:02<00:00, 67.80it/s]"
     ]
    },
    {
     "name": "stdout",
     "output_type": "stream",
     "text": [
      "Validation: {'precision': 0.7301444043299334, 'recall': 0.761053621822637, 'f1': 0.7452786684222457, 'auc': 0.805866378830064, 'prauc': 0.8057519998070244}\n",
      "Test:      {'precision': 0.7203491872344361, 'recall': 0.7503919724027897, 'f1': 0.7350637332888778, 'auc': 0.8066725154234535, 'prauc': 0.8077696990396827}\n",
      "\n",
      "Early stopping triggered (no improvement for 5 epochs).\n",
      "\n",
      "Best validation performance:\n",
      "{'precision': 0.6689403166853376, 'recall': 0.8610849796147347, 'f1': 0.752947623264342, 'auc': 0.8221167685418145, 'prauc': 0.8313893320374641}\n",
      "Corresponding test performance:\n",
      "{'precision': 0.6645858343321379, 'recall': 0.8679836939452242, 'f1': 0.7527875936718254, 'auc': 0.8225094589295969, 'prauc': 0.830674720982248}\n"
     ]
    },
    {
     "name": "stderr",
     "output_type": "stream",
     "text": [
      "\n"
     ]
    }
   ],
   "source": [
    "final_metrics = {\"precision\":[],\"recall\":[],\"f1\":[],\"auc\":[],\"prauc\":[]}\n",
    "for i in range(5):\n",
    "    model = HeteroGT(tokenizer, d_model=128, num_heads=4, num_layers=2, max_num_adms=config.max_num_adms, \n",
    "                     device=device, task=curr_task, use_hetero_graph=True).to(device)\n",
    "    optimizer = torch.optim.AdamW(model.parameters(), lr=config.lr)\n",
    "    best_test_metric = train_with_early_stopping(model, train_dataloader, val_dataloader, test_dataloader,\n",
    "                                             optimizer, loss_fn, device, config.early_stop_patience, task_type, config.epochs, \n",
    "                                             val_long_seq_idx=None, test_long_seq_idx=None, eval_metric=eval_metric, return_model=False)\n",
    "    for key in final_metrics.keys():\n",
    "        final_metrics[key].append(best_test_metric[key])"
   ]
  },
  {
   "cell_type": "code",
   "execution_count": 19,
   "id": "d169eb3e",
   "metadata": {},
   "outputs": [
    {
     "name": "stdout",
     "output_type": "stream",
     "text": [
      "\n",
      "Final Metrics:\n",
      "precision: 0.7340 ± 0.0696\n",
      "recall: 0.7570 ± 0.1236\n",
      "f1: 0.7328 ± 0.0303\n",
      "auc: 0.8182 ± 0.0073\n",
      "prauc: 0.8296 ± 0.0065\n"
     ]
    }
   ],
   "source": [
    "# print the mean and std of the final metrics\n",
    "print(\"\\nFinal Metrics:\")\n",
    "for key in final_metrics.keys():\n",
    "    mean_value = np.mean(final_metrics[key])\n",
    "    std_value = np.std(final_metrics[key])\n",
    "    print(f\"{key}: {mean_value:.4f} ± {std_value:.4f}\")"
   ]
  },
  {
   "cell_type": "code",
   "execution_count": 20,
   "id": "6154fc32",
   "metadata": {},
   "outputs": [
    {
     "name": "stderr",
     "output_type": "stream",
     "text": [
      "Epoch 001:   0%|          | 0/98 [00:00<?, ?it/s, loss=1.0788]"
     ]
    },
    {
     "name": "stderr",
     "output_type": "stream",
     "text": [
      "Epoch 001: 100%|██████████| 98/98 [00:01<00:00, 79.09it/s, loss=0.6977]\n",
      "Running inference: 100%|██████████| 198/198 [00:00<00:00, 312.72it/s]\n",
      "Running inference: 100%|██████████| 197/197 [00:00<00:00, 316.77it/s]\n"
     ]
    },
    {
     "name": "stdout",
     "output_type": "stream",
     "text": [
      "Validation: {'precision': 0.7864923747242419, 'recall': 0.5660081530242521, 'f1': 0.6582786238686239, 'auc': 0.7769508972739418, 'prauc': 0.7605844119115771}\n",
      "Test:      {'precision': 0.7702760084892982, 'recall': 0.5688303543412705, 'f1': 0.654401149511944, 'auc': 0.7698701948461479, 'prauc': 0.754989375550309}\n"
     ]
    },
    {
     "name": "stderr",
     "output_type": "stream",
     "text": [
      "Epoch 002: 100%|██████████| 98/98 [00:01<00:00, 76.19it/s, loss=0.5970]\n",
      "Running inference: 100%|██████████| 198/198 [00:00<00:00, 309.86it/s]\n",
      "Running inference: 100%|██████████| 197/197 [00:00<00:00, 316.58it/s]\n"
     ]
    },
    {
     "name": "stdout",
     "output_type": "stream",
     "text": [
      "Validation: {'precision': 0.6530612244882462, 'recall': 0.8629664471594137, 'f1': 0.7434823671051906, 'auc': 0.7955370456498523, 'prauc': 0.8003111457405884}\n",
      "Test:      {'precision': 0.6428907721265469, 'recall': 0.8563813107530374, 'f1': 0.7344359235651875, 'auc': 0.7883940431267795, 'prauc': 0.7948325230559287}\n"
     ]
    },
    {
     "name": "stderr",
     "output_type": "stream",
     "text": [
      "Epoch 003: 100%|██████████| 98/98 [00:01<00:00, 77.89it/s, loss=0.5530]\n",
      "Running inference: 100%|██████████| 198/198 [00:00<00:00, 305.63it/s]\n",
      "Running inference: 100%|██████████| 197/197 [00:00<00:00, 312.40it/s]\n"
     ]
    },
    {
     "name": "stdout",
     "output_type": "stream",
     "text": [
      "Validation: {'precision': 0.7033533963866342, 'recall': 0.7695202257736924, 'f1': 0.7349505790150773, 'auc': 0.7996267206973185, 'prauc': 0.8070424939508338}\n",
      "Test:      {'precision': 0.6919553392479475, 'recall': 0.7579178425815054, 'f1': 0.7234360919851368, 'auc': 0.7900175009701789, 'prauc': 0.7996671344834576}\n"
     ]
    },
    {
     "name": "stderr",
     "output_type": "stream",
     "text": [
      "Epoch 004: 100%|██████████| 98/98 [00:01<00:00, 80.86it/s, loss=0.5335]\n",
      "Running inference: 100%|██████████| 198/198 [00:00<00:00, 309.14it/s]\n",
      "Running inference: 100%|██████████| 197/197 [00:00<00:00, 311.97it/s]\n"
     ]
    },
    {
     "name": "stdout",
     "output_type": "stream",
     "text": [
      "Validation: {'precision': 0.8060384263458096, 'recall': 0.5525243022873862, 'f1': 0.6556279021484113, 'auc': 0.8049838192384527, 'prauc': 0.8158249798841744}\n",
      "Test:      {'precision': 0.7927967985736203, 'recall': 0.5591094386937626, 'f1': 0.6557557877177853, 'auc': 0.7941988587374236, 'prauc': 0.8044758806450664}\n"
     ]
    },
    {
     "name": "stderr",
     "output_type": "stream",
     "text": [
      "Epoch 005: 100%|██████████| 98/98 [00:01<00:00, 75.75it/s, loss=0.4994]\n",
      "Running inference: 100%|██████████| 198/198 [00:00<00:00, 304.12it/s]\n",
      "Running inference: 100%|██████████| 197/197 [00:00<00:00, 311.84it/s]\n"
     ]
    },
    {
     "name": "stdout",
     "output_type": "stream",
     "text": [
      "Validation: {'precision': 0.6863732767744264, 'recall': 0.8118532455289689, 'f1': 0.7438586360327915, 'auc': 0.8030917517351027, 'prauc': 0.8083910940238401}\n",
      "Test:      {'precision': 0.6874668082828267, 'recall': 0.8118532455289689, 'f1': 0.7445003544859031, 'auc': 0.8037115445499603, 'prauc': 0.8093685386068344}\n"
     ]
    },
    {
     "name": "stderr",
     "output_type": "stream",
     "text": [
      "Epoch 006: 100%|██████████| 98/98 [00:01<00:00, 79.60it/s, loss=0.4742]\n",
      "Running inference: 100%|██████████| 198/198 [00:00<00:00, 313.48it/s]\n",
      "Running inference: 100%|██████████| 197/197 [00:00<00:00, 317.41it/s]\n"
     ]
    },
    {
     "name": "stdout",
     "output_type": "stream",
     "text": [
      "Validation: {'precision': 0.7871267933276963, 'recall': 0.636563185949713, 'f1': 0.703883490199112, 'auc': 0.8067618492718029, 'prauc': 0.8181279796970613}\n",
      "Test:      {'precision': 0.7700757575728406, 'recall': 0.6375039197220523, 'f1': 0.697546744055513, 'auc': 0.8036552213241042, 'prauc': 0.8163222485260601}\n"
     ]
    },
    {
     "name": "stderr",
     "output_type": "stream",
     "text": [
      "Epoch 007: 100%|██████████| 98/98 [00:01<00:00, 80.81it/s, loss=0.4557]\n",
      "Running inference: 100%|██████████| 198/198 [00:00<00:00, 318.47it/s]\n",
      "Running inference: 100%|██████████| 197/197 [00:00<00:00, 323.62it/s]\n"
     ]
    },
    {
     "name": "stdout",
     "output_type": "stream",
     "text": [
      "Validation: {'precision': 0.7254719900937002, 'recall': 0.7350266541212448, 'f1': 0.7302180635337647, 'auc': 0.8023426210070684, 'prauc': 0.8116213668451668}\n",
      "Test:      {'precision': 0.7212213740435993, 'recall': 0.7406710567552817, 'f1': 0.7308168266817923, 'auc': 0.80103873316532, 'prauc': 0.812331803028962}\n"
     ]
    },
    {
     "name": "stderr",
     "output_type": "stream",
     "text": [
      "Epoch 008: 100%|██████████| 98/98 [00:01<00:00, 81.32it/s, loss=0.4304]\n",
      "Running inference: 100%|██████████| 198/198 [00:00<00:00, 319.54it/s]\n",
      "Running inference: 100%|██████████| 197/197 [00:00<00:00, 322.68it/s]\n"
     ]
    },
    {
     "name": "stdout",
     "output_type": "stream",
     "text": [
      "Validation: {'precision': 0.6845124282964095, 'recall': 0.7858262778275766, 'f1': 0.7316788271383917, 'auc': 0.7934343856027846, 'prauc': 0.8033498513837178}\n",
      "Test:      {'precision': 0.6811748998646697, 'recall': 0.7999372844126688, 'f1': 0.735794630161263, 'auc': 0.7971504675733749, 'prauc': 0.8080801936574351}\n"
     ]
    },
    {
     "name": "stderr",
     "output_type": "stream",
     "text": [
      "Epoch 009: 100%|██████████| 98/98 [00:01<00:00, 79.54it/s, loss=0.4065]\n",
      "Running inference: 100%|██████████| 198/198 [00:00<00:00, 319.92it/s]\n",
      "Running inference: 100%|██████████| 197/197 [00:00<00:00, 324.18it/s]\n"
     ]
    },
    {
     "name": "stdout",
     "output_type": "stream",
     "text": [
      "Validation: {'precision': 0.6982378854606326, 'recall': 0.7952336155509714, 'f1': 0.7435859794786667, 'auc': 0.8064713802623144, 'prauc': 0.8090999082186456}\n",
      "Test:      {'precision': 0.6983910553566992, 'recall': 0.8030730636538004, 'f1': 0.7470828421633153, 'auc': 0.8050682346569543, 'prauc': 0.8105989810696385}\n"
     ]
    },
    {
     "name": "stderr",
     "output_type": "stream",
     "text": [
      "Epoch 010: 100%|██████████| 98/98 [00:01<00:00, 81.99it/s, loss=0.3886]\n",
      "Running inference: 100%|██████████| 198/198 [00:00<00:00, 317.83it/s]\n",
      "Running inference: 100%|██████████| 197/197 [00:00<00:00, 321.87it/s]\n"
     ]
    },
    {
     "name": "stdout",
     "output_type": "stream",
     "text": [
      "Validation: {'precision': 0.7268186075531476, 'recall': 0.7300094073354343, 'f1': 0.7284105081391717, 'auc': 0.804450756862167, 'prauc': 0.8107865247872497}\n",
      "Test:      {'precision': 0.7281021897788075, 'recall': 0.7507055503269028, 'f1': 0.7392311205199602, 'auc': 0.8075584359759949, 'prauc': 0.8168343943548293}\n"
     ]
    },
    {
     "name": "stderr",
     "output_type": "stream",
     "text": [
      "Epoch 011: 100%|██████████| 98/98 [00:01<00:00, 80.14it/s, loss=0.3712]\n",
      "Running inference: 100%|██████████| 198/198 [00:00<00:00, 318.89it/s]\n",
      "Running inference: 100%|██████████| 197/197 [00:00<00:00, 322.99it/s]\n"
     ]
    },
    {
     "name": "stdout",
     "output_type": "stream",
     "text": [
      "Validation: {'precision': 0.7056239015796555, 'recall': 0.7554092191886002, 'f1': 0.7296683275796974, 'auc': 0.7956849929402267, 'prauc': 0.8024154345085851}\n",
      "Test:      {'precision': 0.703287197229806, 'recall': 0.7648165569119949, 'f1': 0.7327625006397492, 'auc': 0.7923458799736454, 'prauc': 0.8014573005931842}\n",
      "\n",
      "Early stopping triggered (no improvement for 5 epochs).\n",
      "\n",
      "Best validation performance:\n",
      "{'precision': 0.7871267933276963, 'recall': 0.636563185949713, 'f1': 0.703883490199112, 'auc': 0.8067618492718029, 'prauc': 0.8181279796970613}\n",
      "Corresponding test performance:\n",
      "{'precision': 0.7700757575728406, 'recall': 0.6375039197220523, 'f1': 0.697546744055513, 'auc': 0.8036552213241042, 'prauc': 0.8163222485260601}\n"
     ]
    },
    {
     "name": "stderr",
     "output_type": "stream",
     "text": [
      "Epoch 001: 100%|██████████| 98/98 [00:01<00:00, 80.33it/s, loss=0.6814]\n",
      "Running inference: 100%|██████████| 198/198 [00:00<00:00, 319.44it/s]\n",
      "Running inference: 100%|██████████| 197/197 [00:00<00:00, 324.59it/s]\n"
     ]
    },
    {
     "name": "stdout",
     "output_type": "stream",
     "text": [
      "Validation: {'precision': 0.7334929866550343, 'recall': 0.6723110692986131, 'f1': 0.701570675635447, 'auc': 0.7758659337322736, 'prauc': 0.7783569413184996}\n",
      "Test:      {'precision': 0.7186554621824583, 'recall': 0.6704296017539341, 'f1': 0.6937053811166897, 'auc': 0.7614676151518034, 'prauc': 0.7623815929308992}\n"
     ]
    },
    {
     "name": "stderr",
     "output_type": "stream",
     "text": [
      "Epoch 002: 100%|██████████| 98/98 [00:01<00:00, 81.68it/s, loss=0.5915]\n",
      "Running inference: 100%|██████████| 198/198 [00:00<00:00, 321.65it/s]\n",
      "Running inference: 100%|██████████| 197/197 [00:00<00:00, 324.74it/s]\n"
     ]
    },
    {
     "name": "stdout",
     "output_type": "stream",
     "text": [
      "Validation: {'precision': 0.7521156558506625, 'recall': 0.6688617121333683, 'f1': 0.7080497875459335, 'auc': 0.7949576649707737, 'prauc': 0.7943645827025443}\n",
      "Test:      {'precision': 0.743457300272922, 'recall': 0.6770147381603104, 'f1': 0.7086820892150799, 'auc': 0.7865698551451191, 'prauc': 0.7931034497673508}\n"
     ]
    },
    {
     "name": "stderr",
     "output_type": "stream",
     "text": [
      "Epoch 003: 100%|██████████| 98/98 [00:01<00:00, 79.90it/s, loss=0.5475]\n",
      "Running inference: 100%|██████████| 198/198 [00:00<00:00, 320.60it/s]\n",
      "Running inference: 100%|██████████| 197/197 [00:00<00:00, 323.79it/s]\n"
     ]
    },
    {
     "name": "stdout",
     "output_type": "stream",
     "text": [
      "Validation: {'precision': 0.6616595135892664, 'recall': 0.8701787394140164, 'f1': 0.7517269353587954, 'auc': 0.8148092776062863, 'prauc': 0.8185751273212761}\n",
      "Test:      {'precision': 0.6563400576353114, 'recall': 0.8570084666012637, 'f1': 0.7433700481254663, 'auc': 0.8014831782808782, 'prauc': 0.8069125237734951}\n"
     ]
    },
    {
     "name": "stderr",
     "output_type": "stream",
     "text": [
      "Epoch 004: 100%|██████████| 98/98 [00:01<00:00, 80.32it/s, loss=0.5301]\n",
      "Running inference: 100%|██████████| 198/198 [00:00<00:00, 318.90it/s]\n",
      "Running inference: 100%|██████████| 197/197 [00:00<00:00, 322.71it/s]\n"
     ]
    },
    {
     "name": "stdout",
     "output_type": "stream",
     "text": [
      "Validation: {'precision': 0.8072870939385106, 'recall': 0.5766698024440995, 'f1': 0.6727638509988244, 'auc': 0.8169971894536138, 'prauc': 0.8240254846241905}\n",
      "Test:      {'precision': 0.7971514889909489, 'recall': 0.5791784258370047, 'f1': 0.6709044629762236, 'auc': 0.8092590047952759, 'prauc': 0.8176634255178852}\n"
     ]
    },
    {
     "name": "stderr",
     "output_type": "stream",
     "text": [
      "Epoch 005: 100%|██████████| 98/98 [00:01<00:00, 81.02it/s, loss=0.4984]\n",
      "Running inference: 100%|██████████| 198/198 [00:00<00:00, 318.54it/s]\n",
      "Running inference: 100%|██████████| 197/197 [00:00<00:00, 320.22it/s]\n"
     ]
    },
    {
     "name": "stdout",
     "output_type": "stream",
     "text": [
      "Validation: {'precision': 0.7256484149834996, 'recall': 0.7895892129169345, 'f1': 0.7562697051733239, 'auc': 0.8222314590898364, 'prauc': 0.8261748080257169}\n",
      "Test:      {'precision': 0.7060859532716871, 'recall': 0.7676387582290134, 'f1': 0.7355769180834353, 'auc': 0.8065737610274484, 'prauc': 0.8115673169399809}\n"
     ]
    },
    {
     "name": "stderr",
     "output_type": "stream",
     "text": [
      "Epoch 006: 100%|██████████| 98/98 [00:01<00:00, 80.66it/s, loss=0.4615]\n",
      "Running inference: 100%|██████████| 198/198 [00:00<00:00, 315.09it/s]\n",
      "Running inference: 100%|██████████| 197/197 [00:00<00:00, 323.30it/s]\n"
     ]
    },
    {
     "name": "stdout",
     "output_type": "stream",
     "text": [
      "Validation: {'precision': 0.8444902162675362, 'recall': 0.5142677955455809, 'f1': 0.6392516031665413, 'auc': 0.8264204019966505, 'prauc': 0.8328382698728424}\n",
      "Test:      {'precision': 0.844110275684992, 'recall': 0.5280652242065599, 'f1': 0.6496913532874308, 'auc': 0.8173850017138569, 'prauc': 0.825727180494824}\n"
     ]
    },
    {
     "name": "stderr",
     "output_type": "stream",
     "text": [
      "Epoch 007: 100%|██████████| 98/98 [00:01<00:00, 80.83it/s, loss=0.4339]\n",
      "Running inference: 100%|██████████| 198/198 [00:00<00:00, 318.66it/s]\n",
      "Running inference: 100%|██████████| 197/197 [00:00<00:00, 325.26it/s]\n"
     ]
    },
    {
     "name": "stdout",
     "output_type": "stream",
     "text": [
      "Validation: {'precision': 0.7161362996318893, 'recall': 0.7974286610197635, 'f1': 0.7545994015403742, 'auc': 0.8263071180782144, 'prauc': 0.8310376097864426}\n",
      "Test:      {'precision': 0.7102829924328655, 'recall': 0.7949200376268583, 'f1': 0.7502219541731033, 'auc': 0.815266312217912, 'prauc': 0.8205731542701326}\n"
     ]
    },
    {
     "name": "stderr",
     "output_type": "stream",
     "text": [
      "Epoch 008: 100%|██████████| 98/98 [00:01<00:00, 80.52it/s, loss=0.3811]\n",
      "Running inference: 100%|██████████| 198/198 [00:00<00:00, 320.09it/s]\n",
      "Running inference: 100%|██████████| 197/197 [00:00<00:00, 324.41it/s]\n"
     ]
    },
    {
     "name": "stdout",
     "output_type": "stream",
     "text": [
      "Validation: {'precision': 0.803658536582099, 'recall': 0.6199435559717155, 'f1': 0.6999468883362341, 'auc': 0.8275973993026533, 'prauc': 0.829559414275277}\n",
      "Test:      {'precision': 0.7943177270876578, 'recall': 0.6224521793646207, 'f1': 0.6979606139178188, 'auc': 0.8215056069041503, 'prauc': 0.823590625554659}\n"
     ]
    },
    {
     "name": "stderr",
     "output_type": "stream",
     "text": [
      "Epoch 009: 100%|██████████| 98/98 [00:01<00:00, 79.30it/s, loss=0.3559]\n",
      "Running inference: 100%|██████████| 198/198 [00:00<00:00, 317.04it/s]\n",
      "Running inference: 100%|██████████| 197/197 [00:00<00:00, 321.44it/s]\n"
     ]
    },
    {
     "name": "stdout",
     "output_type": "stream",
     "text": [
      "Validation: {'precision': 0.742668863259497, 'recall': 0.7068046409510605, 'f1': 0.7242930541266978, 'auc': 0.811913328709541, 'prauc': 0.8148115867982653}\n",
      "Test:      {'precision': 0.7378068739746717, 'recall': 0.7068046409510605, 'f1': 0.7219730891703938, 'auc': 0.8059523432022295, 'prauc': 0.8039177081169815}\n"
     ]
    },
    {
     "name": "stderr",
     "output_type": "stream",
     "text": [
      "Epoch 010: 100%|██████████| 98/98 [00:01<00:00, 80.16it/s, loss=0.3319]\n",
      "Running inference: 100%|██████████| 198/198 [00:00<00:00, 319.31it/s]\n",
      "Running inference: 100%|██████████| 197/197 [00:00<00:00, 323.02it/s]\n"
     ]
    },
    {
     "name": "stdout",
     "output_type": "stream",
     "text": [
      "Validation: {'precision': 0.7995876288626822, 'recall': 0.6080275948554155, 'f1': 0.6907730624218102, 'auc': 0.8217246203079734, 'prauc': 0.819558083852783}\n",
      "Test:      {'precision': 0.7927710843341657, 'recall': 0.619002822199376, 'f1': 0.6951928107098572, 'auc': 0.8139739483688663, 'prauc': 0.8109133671691093}\n"
     ]
    },
    {
     "name": "stderr",
     "output_type": "stream",
     "text": [
      "Epoch 011: 100%|██████████| 98/98 [00:01<00:00, 80.71it/s, loss=0.3053]\n",
      "Running inference: 100%|██████████| 198/198 [00:00<00:00, 319.19it/s]\n",
      "Running inference: 100%|██████████| 197/197 [00:00<00:00, 323.46it/s]\n"
     ]
    },
    {
     "name": "stdout",
     "output_type": "stream",
     "text": [
      "Validation: {'precision': 0.7960155911615591, 'recall': 0.5763562245199864, 'f1': 0.6686067612224235, 'auc': 0.8073675540188462, 'prauc': 0.8088230437156428}\n",
      "Test:      {'precision': 0.7852038671677798, 'recall': 0.5857635622433811, 'f1': 0.6709770065976565, 'auc': 0.8035355785110032, 'prauc': 0.802696076814303}\n",
      "\n",
      "Early stopping triggered (no improvement for 5 epochs).\n",
      "\n",
      "Best validation performance:\n",
      "{'precision': 0.8444902162675362, 'recall': 0.5142677955455809, 'f1': 0.6392516031665413, 'auc': 0.8264204019966505, 'prauc': 0.8328382698728424}\n",
      "Corresponding test performance:\n",
      "{'precision': 0.844110275684992, 'recall': 0.5280652242065599, 'f1': 0.6496913532874308, 'auc': 0.8173850017138569, 'prauc': 0.825727180494824}\n"
     ]
    },
    {
     "name": "stderr",
     "output_type": "stream",
     "text": [
      "Epoch 001: 100%|██████████| 98/98 [00:01<00:00, 81.74it/s, loss=0.6906]\n",
      "Running inference: 100%|██████████| 198/198 [00:00<00:00, 319.32it/s]\n",
      "Running inference: 100%|██████████| 197/197 [00:00<00:00, 322.45it/s]\n"
     ]
    },
    {
     "name": "stdout",
     "output_type": "stream",
     "text": [
      "Validation: {'precision': 0.7474989995968487, 'recall': 0.5857635622433811, 'f1': 0.6568213734116344, 'auc': 0.7614571738058644, 'prauc': 0.7482031664968426}\n",
      "Test:      {'precision': 0.7437007873986469, 'recall': 0.5923486986497575, 'f1': 0.659451906390193, 'auc': 0.758717290123, 'prauc': 0.7505951526217786}\n"
     ]
    },
    {
     "name": "stderr",
     "output_type": "stream",
     "text": [
      "Epoch 002: 100%|██████████| 98/98 [00:01<00:00, 79.71it/s, loss=0.5883]\n",
      "Running inference: 100%|██████████| 198/198 [00:00<00:00, 317.75it/s]\n",
      "Running inference: 100%|██████████| 197/197 [00:00<00:00, 323.87it/s]\n"
     ]
    },
    {
     "name": "stdout",
     "output_type": "stream",
     "text": [
      "Validation: {'precision': 0.6608565737035338, 'recall': 0.8322358105963241, 'f1': 0.736710612690477, 'auc': 0.7868672339603787, 'prauc': 0.7935325284764683}\n",
      "Test:      {'precision': 0.6529338327074833, 'recall': 0.820006271555911, 'f1': 0.7269947128827143, 'auc': 0.7786116702327976, 'prauc': 0.7891339768219781}\n"
     ]
    },
    {
     "name": "stderr",
     "output_type": "stream",
     "text": [
      "Epoch 003: 100%|██████████| 98/98 [00:01<00:00, 81.10it/s, loss=0.5609]\n",
      "Running inference: 100%|██████████| 198/198 [00:00<00:00, 320.50it/s]\n",
      "Running inference: 100%|██████████| 197/197 [00:00<00:00, 323.38it/s]\n"
     ]
    },
    {
     "name": "stdout",
     "output_type": "stream",
     "text": [
      "Validation: {'precision': 0.8075584286384507, 'recall': 0.5092505487597703, 'f1': 0.6246153798695807, 'auc': 0.7847097153594607, 'prauc': 0.8006686235504779}\n",
      "Test:      {'precision': 0.8084384093074276, 'recall': 0.5227343994966361, 'f1': 0.6349266758601635, 'auc': 0.7841371850567788, 'prauc': 0.8023565661201114}\n"
     ]
    },
    {
     "name": "stderr",
     "output_type": "stream",
     "text": [
      "Epoch 004: 100%|██████████| 98/98 [00:01<00:00, 81.10it/s, loss=0.5233]\n",
      "Running inference: 100%|██████████| 198/198 [00:00<00:00, 318.67it/s]\n",
      "Running inference: 100%|██████████| 197/197 [00:00<00:00, 322.77it/s]\n"
     ]
    },
    {
     "name": "stdout",
     "output_type": "stream",
     "text": [
      "Validation: {'precision': 0.7142427884593924, 'recall': 0.745374725616979, 'f1': 0.7294767481072939, 'auc': 0.8034376319029217, 'prauc': 0.8158602015794256}\n",
      "Test:      {'precision': 0.7083703046415014, 'recall': 0.7510191282510159, 'f1': 0.7290715322927662, 'auc': 0.7974714948606945, 'prauc': 0.8084283076920101}\n"
     ]
    },
    {
     "name": "stderr",
     "output_type": "stream",
     "text": [
      "Epoch 005: 100%|██████████| 98/98 [00:01<00:00, 81.56it/s, loss=0.4894]\n",
      "Running inference: 100%|██████████| 198/198 [00:00<00:00, 318.55it/s]\n",
      "Running inference: 100%|██████████| 197/197 [00:00<00:00, 322.09it/s]\n"
     ]
    },
    {
     "name": "stdout",
     "output_type": "stream",
     "text": [
      "Validation: {'precision': 0.7429967426685896, 'recall': 0.7152712449021158, 'f1': 0.728870421585195, 'auc': 0.8068328840658909, 'prauc': 0.8171621174156862}\n",
      "Test:      {'precision': 0.7333968859207709, 'recall': 0.7237378488531712, 'f1': 0.7285353485332736, 'auc': 0.8077684778182627, 'prauc': 0.8195781449614342}\n"
     ]
    },
    {
     "name": "stderr",
     "output_type": "stream",
     "text": [
      "Epoch 006: 100%|██████████| 98/98 [00:01<00:00, 80.83it/s, loss=0.4722]\n",
      "Running inference: 100%|██████████| 198/198 [00:00<00:00, 319.22it/s]\n",
      "Running inference: 100%|██████████| 197/197 [00:00<00:00, 324.99it/s]\n"
     ]
    },
    {
     "name": "stdout",
     "output_type": "stream",
     "text": [
      "Validation: {'precision': 0.7367741935460105, 'recall': 0.7162119786744553, 'f1': 0.7263475860306522, 'auc': 0.806721559381521, 'prauc': 0.8191616235049592}\n",
      "Test:      {'precision': 0.7303588748763972, 'recall': 0.7083725305716263, 'f1': 0.7191977027352678, 'auc': 0.7999876682838832, 'prauc': 0.8128579478367124}\n"
     ]
    },
    {
     "name": "stderr",
     "output_type": "stream",
     "text": [
      "Epoch 007: 100%|██████████| 98/98 [00:01<00:00, 79.95it/s, loss=0.4566]\n",
      "Running inference: 100%|██████████| 198/198 [00:00<00:00, 320.73it/s]\n",
      "Running inference: 100%|██████████| 197/197 [00:00<00:00, 324.69it/s]\n"
     ]
    },
    {
     "name": "stdout",
     "output_type": "stream",
     "text": [
      "Validation: {'precision': 0.7756669361326772, 'recall': 0.6017560363731522, 'f1': 0.677732645615896, 'auc': 0.7979792057948316, 'prauc': 0.8071533543929841}\n",
      "Test:      {'precision': 0.7722113502905198, 'recall': 0.6186892442752628, 'f1': 0.6869777109359598, 'auc': 0.7996624633131446, 'prauc': 0.8101461226104552}\n"
     ]
    },
    {
     "name": "stderr",
     "output_type": "stream",
     "text": [
      "Epoch 008: 100%|██████████| 98/98 [00:01<00:00, 80.26it/s, loss=0.4218]\n",
      "Running inference: 100%|██████████| 198/198 [00:00<00:00, 320.74it/s]\n",
      "Running inference: 100%|██████████| 197/197 [00:00<00:00, 324.82it/s]\n"
     ]
    },
    {
     "name": "stdout",
     "output_type": "stream",
     "text": [
      "Validation: {'precision': 0.7821561338260886, 'recall': 0.6597679523340867, 'f1': 0.715767982786606, 'auc': 0.817180754614574, 'prauc': 0.8266936739606789}\n",
      "Test:      {'precision': 0.7688984881181825, 'recall': 0.6698024459057078, 'f1': 0.7159376521354496, 'auc': 0.8102325056990145, 'prauc': 0.8222233402074016}\n"
     ]
    },
    {
     "name": "stderr",
     "output_type": "stream",
     "text": [
      "Epoch 009: 100%|██████████| 98/98 [00:01<00:00, 80.86it/s, loss=0.3991]\n",
      "Running inference: 100%|██████████| 198/198 [00:00<00:00, 318.46it/s]\n",
      "Running inference: 100%|██████████| 197/197 [00:00<00:00, 321.54it/s]\n"
     ]
    },
    {
     "name": "stdout",
     "output_type": "stream",
     "text": [
      "Validation: {'precision': 0.7807384849608652, 'recall': 0.6431483223560892, 'f1': 0.7052957309452242, 'auc': 0.8131061003616143, 'prauc': 0.8187119881087894}\n",
      "Test:      {'precision': 0.7766310357509155, 'recall': 0.6607086861064262, 'f1': 0.7139952508755794, 'auc': 0.8124407385540282, 'prauc': 0.8161323889206297}\n"
     ]
    },
    {
     "name": "stderr",
     "output_type": "stream",
     "text": [
      "Epoch 010: 100%|██████████| 98/98 [00:01<00:00, 81.05it/s, loss=0.3750]\n",
      "Running inference: 100%|██████████| 198/198 [00:00<00:00, 318.63it/s]\n",
      "Running inference: 100%|██████████| 197/197 [00:00<00:00, 324.27it/s]\n"
     ]
    },
    {
     "name": "stdout",
     "output_type": "stream",
     "text": [
      "Validation: {'precision': 0.7451984635059373, 'recall': 0.7300094073354343, 'f1': 0.7375257355335968, 'auc': 0.8157513677714437, 'prauc': 0.8191251670197619}\n",
      "Test:      {'precision': 0.7330021732358492, 'recall': 0.7403574788311685, 'f1': 0.7366614614564846, 'auc': 0.8089050593759548, 'prauc': 0.8124631672569099}\n"
     ]
    },
    {
     "name": "stderr",
     "output_type": "stream",
     "text": [
      "Epoch 011: 100%|██████████| 98/98 [00:01<00:00, 80.44it/s, loss=0.3638]\n",
      "Running inference: 100%|██████████| 198/198 [00:00<00:00, 321.66it/s]\n",
      "Running inference: 100%|██████████| 197/197 [00:00<00:00, 325.11it/s]\n"
     ]
    },
    {
     "name": "stdout",
     "output_type": "stream",
     "text": [
      "Validation: {'precision': 0.7048360200091583, 'recall': 0.7952336155509714, 'f1': 0.747311030819698, 'auc': 0.8071823310444456, 'prauc': 0.8071271737655221}\n",
      "Test:      {'precision': 0.6941561987965752, 'recall': 0.7971150830956504, 'f1': 0.742081442985468, 'auc': 0.8036657410329549, 'prauc': 0.8089465445191539}\n"
     ]
    },
    {
     "name": "stderr",
     "output_type": "stream",
     "text": [
      "Epoch 012: 100%|██████████| 98/98 [00:01<00:00, 81.46it/s, loss=0.3400]\n",
      "Running inference: 100%|██████████| 198/198 [00:00<00:00, 321.86it/s]\n",
      "Running inference: 100%|██████████| 197/197 [00:00<00:00, 325.78it/s]\n"
     ]
    },
    {
     "name": "stdout",
     "output_type": "stream",
     "text": [
      "Validation: {'precision': 0.7889022919148014, 'recall': 0.6152398871100181, 'f1': 0.6913319189641096, 'auc': 0.8128146266167072, 'prauc': 0.8194889342494757}\n",
      "Test:      {'precision': 0.7806102742341421, 'recall': 0.6337409846326945, 'f1': 0.6995500123585212, 'auc': 0.8090649186836573, 'prauc': 0.8149170123738967}\n"
     ]
    },
    {
     "name": "stderr",
     "output_type": "stream",
     "text": [
      "Epoch 013: 100%|██████████| 98/98 [00:01<00:00, 80.80it/s, loss=0.2970]\n",
      "Running inference: 100%|██████████| 198/198 [00:00<00:00, 323.26it/s]\n",
      "Running inference: 100%|██████████| 197/197 [00:00<00:00, 325.48it/s]\n"
     ]
    },
    {
     "name": "stdout",
     "output_type": "stream",
     "text": [
      "Validation: {'precision': 0.7120904610011247, 'recall': 0.7701473816219186, 'f1': 0.739981917271184, 'auc': 0.8032583368674903, 'prauc': 0.8092323648720022}\n",
      "Test:      {'precision': 0.7125679931270754, 'recall': 0.7804954531176529, 'f1': 0.7449865259868683, 'auc': 0.803684062439757, 'prauc': 0.8072566381841031}\n",
      "\n",
      "Early stopping triggered (no improvement for 5 epochs).\n",
      "\n",
      "Best validation performance:\n",
      "{'precision': 0.7821561338260886, 'recall': 0.6597679523340867, 'f1': 0.715767982786606, 'auc': 0.817180754614574, 'prauc': 0.8266936739606789}\n",
      "Corresponding test performance:\n",
      "{'precision': 0.7688984881181825, 'recall': 0.6698024459057078, 'f1': 0.7159376521354496, 'auc': 0.8102325056990145, 'prauc': 0.8222233402074016}\n"
     ]
    },
    {
     "name": "stderr",
     "output_type": "stream",
     "text": [
      "Epoch 001: 100%|██████████| 98/98 [00:01<00:00, 81.86it/s, loss=0.6693]\n",
      "Running inference: 100%|██████████| 198/198 [00:00<00:00, 320.90it/s]\n",
      "Running inference: 100%|██████████| 197/197 [00:00<00:00, 324.69it/s]\n"
     ]
    },
    {
     "name": "stdout",
     "output_type": "stream",
     "text": [
      "Validation: {'precision': 0.531081081080184, 'recall': 0.985888993411772, 'f1': 0.6903062859298656, 'auc': 0.784648476735703, 'prauc': 0.7856205749011042}\n",
      "Test:      {'precision': 0.5325865580439026, 'recall': 0.9840075258670932, 'f1': 0.6911133089531966, 'auc': 0.7763290947463366, 'prauc': 0.7843429356356472}\n"
     ]
    },
    {
     "name": "stderr",
     "output_type": "stream",
     "text": [
      "Epoch 002: 100%|██████████| 98/98 [00:01<00:00, 80.29it/s, loss=0.5879]\n",
      "Running inference: 100%|██████████| 198/198 [00:00<00:00, 319.23it/s]\n",
      "Running inference: 100%|██████████| 197/197 [00:00<00:00, 323.76it/s]\n"
     ]
    },
    {
     "name": "stdout",
     "output_type": "stream",
     "text": [
      "Validation: {'precision': 0.6287964004485291, 'recall': 0.8764502978962796, 'f1': 0.7322504536086699, 'auc': 0.7982091897321266, 'prauc': 0.8055682629886483}\n",
      "Test:      {'precision': 0.6252532072909628, 'recall': 0.8711194731863559, 'f1': 0.7279874165167262, 'auc': 0.7976802783645829, 'prauc': 0.8096056090403466}\n"
     ]
    },
    {
     "name": "stderr",
     "output_type": "stream",
     "text": [
      "Epoch 003: 100%|██████████| 98/98 [00:01<00:00, 81.05it/s, loss=0.5657]\n",
      "Running inference: 100%|██████████| 198/198 [00:00<00:00, 320.79it/s]\n",
      "Running inference: 100%|██████████| 197/197 [00:00<00:00, 324.08it/s]\n"
     ]
    },
    {
     "name": "stdout",
     "output_type": "stream",
     "text": [
      "Validation: {'precision': 0.7821334338455254, 'recall': 0.6506741925348051, 'f1': 0.7103731549164124, 'auc': 0.8125451565774653, 'prauc': 0.8206937785162961}\n",
      "Test:      {'precision': 0.7643405188134296, 'recall': 0.6560050172447288, 'f1': 0.7060411695120248, 'auc': 0.8090507749602742, 'prauc': 0.8230891405075189}\n"
     ]
    },
    {
     "name": "stderr",
     "output_type": "stream",
     "text": [
      "Epoch 004: 100%|██████████| 98/98 [00:01<00:00, 80.87it/s, loss=0.5398]\n",
      "Running inference: 100%|██████████| 198/198 [00:00<00:00, 319.35it/s]\n",
      "Running inference: 100%|██████████| 197/197 [00:00<00:00, 323.85it/s]\n"
     ]
    },
    {
     "name": "stdout",
     "output_type": "stream",
     "text": [
      "Validation: {'precision': 0.7714681440416501, 'recall': 0.6986516149241184, 'f1': 0.7332565360662959, 'auc': 0.8196630539395223, 'prauc': 0.8311187308383294}\n",
      "Test:      {'precision': 0.7654613044921749, 'recall': 0.7102539981163053, 'f1': 0.7368249787391487, 'auc': 0.8174249162072473, 'prauc': 0.8299694375738361}\n"
     ]
    },
    {
     "name": "stderr",
     "output_type": "stream",
     "text": [
      "Epoch 005: 100%|██████████| 98/98 [00:01<00:00, 80.20it/s, loss=0.5061]\n",
      "Running inference: 100%|██████████| 198/198 [00:00<00:00, 320.48it/s]\n",
      "Running inference: 100%|██████████| 197/197 [00:00<00:00, 323.99it/s]\n"
     ]
    },
    {
     "name": "stdout",
     "output_type": "stream",
     "text": [
      "Validation: {'precision': 0.7626366120192534, 'recall': 0.7002195045446842, 'f1': 0.7300964475161158, 'auc': 0.8112915481958016, 'prauc': 0.8223219577962957}\n",
      "Test:      {'precision': 0.7564662411798574, 'recall': 0.7061774851028342, 'f1': 0.7304573417437294, 'auc': 0.8123493831876932, 'prauc': 0.8239412936847256}\n"
     ]
    },
    {
     "name": "stderr",
     "output_type": "stream",
     "text": [
      "Epoch 006: 100%|██████████| 98/98 [00:01<00:00, 79.35it/s, loss=0.4821]\n",
      "Running inference: 100%|██████████| 198/198 [00:00<00:00, 320.61it/s]\n",
      "Running inference: 100%|██████████| 197/197 [00:00<00:00, 324.37it/s]\n"
     ]
    },
    {
     "name": "stdout",
     "output_type": "stream",
     "text": [
      "Validation: {'precision': 0.7472388766148714, 'recall': 0.7425525242999607, 'f1': 0.7448883246611226, 'auc': 0.8258299189911975, 'prauc': 0.8390364313690468}\n",
      "Test:      {'precision': 0.7432221875950663, 'recall': 0.7478833490098844, 'f1': 0.7455454779611443, 'auc': 0.8243709943943541, 'prauc': 0.8351995981706204}\n"
     ]
    },
    {
     "name": "stderr",
     "output_type": "stream",
     "text": [
      "Epoch 007: 100%|██████████| 98/98 [00:01<00:00, 81.92it/s, loss=0.4664]\n",
      "Running inference: 100%|██████████| 198/198 [00:00<00:00, 323.09it/s]\n",
      "Running inference: 100%|██████████| 197/197 [00:00<00:00, 325.85it/s]\n"
     ]
    },
    {
     "name": "stdout",
     "output_type": "stream",
     "text": [
      "Validation: {'precision': 0.8451982799768505, 'recall': 0.5547193477561784, 'f1': 0.6698220323198956, 'auc': 0.8254366153116253, 'prauc': 0.8374321029725674}\n",
      "Test:      {'precision': 0.8339534883682143, 'recall': 0.5622452179348942, 'f1': 0.6716613549920479, 'auc': 0.8248073358107499, 'prauc': 0.8365090559808848}\n"
     ]
    },
    {
     "name": "stderr",
     "output_type": "stream",
     "text": [
      "Epoch 008: 100%|██████████| 98/98 [00:01<00:00, 80.95it/s, loss=0.4394]\n",
      "Running inference: 100%|██████████| 198/198 [00:00<00:00, 320.81it/s]\n",
      "Running inference: 100%|██████████| 197/197 [00:00<00:00, 326.37it/s]\n"
     ]
    },
    {
     "name": "stdout",
     "output_type": "stream",
     "text": [
      "Validation: {'precision': 0.6995685005374876, 'recall': 0.8134211351495346, 'f1': 0.7522111013042235, 'auc': 0.8238986668065257, 'prauc': 0.8329459222501872}\n",
      "Test:      {'precision': 0.7019513499045658, 'recall': 0.8234556287211557, 'f1': 0.7578643528938942, 'auc': 0.8287700447012126, 'prauc': 0.836719454133231}\n"
     ]
    },
    {
     "name": "stderr",
     "output_type": "stream",
     "text": [
      "Epoch 009: 100%|██████████| 98/98 [00:01<00:00, 80.23it/s, loss=0.4174]\n",
      "Running inference: 100%|██████████| 198/198 [00:00<00:00, 320.13it/s]\n",
      "Running inference: 100%|██████████| 197/197 [00:00<00:00, 323.56it/s]\n"
     ]
    },
    {
     "name": "stdout",
     "output_type": "stream",
     "text": [
      "Validation: {'precision': 0.7457404980316326, 'recall': 0.71370335528155, 'f1': 0.7293702882223121, 'auc': 0.8114043799832993, 'prauc': 0.8210152625842089}\n",
      "Test:      {'precision': 0.7432170542611654, 'recall': 0.721542803384379, 'f1': 0.7322195654044928, 'auc': 0.8087754001893548, 'prauc': 0.8192178874352734}\n"
     ]
    },
    {
     "name": "stderr",
     "output_type": "stream",
     "text": [
      "Epoch 010: 100%|██████████| 98/98 [00:01<00:00, 81.01it/s, loss=0.3791]\n",
      "Running inference: 100%|██████████| 198/198 [00:00<00:00, 322.09it/s]\n",
      "Running inference: 100%|██████████| 197/197 [00:00<00:00, 323.21it/s]\n"
     ]
    },
    {
     "name": "stdout",
     "output_type": "stream",
     "text": [
      "Validation: {'precision': 0.7465975372626488, 'recall': 0.7224835371567185, 'f1': 0.7343426244810786, 'auc': 0.8167661003073586, 'prauc': 0.8257409757532188}\n",
      "Test:      {'precision': 0.7529486770776126, 'recall': 0.7406710567552817, 'f1': 0.7467594006255457, 'auc': 0.8253010574572404, 'prauc': 0.8332259890591196}\n"
     ]
    },
    {
     "name": "stderr",
     "output_type": "stream",
     "text": [
      "Epoch 011: 100%|██████████| 98/98 [00:01<00:00, 80.12it/s, loss=0.3645]\n",
      "Running inference: 100%|██████████| 198/198 [00:00<00:00, 318.50it/s]\n",
      "Running inference: 100%|██████████| 197/197 [00:00<00:00, 324.33it/s]\n"
     ]
    },
    {
     "name": "stdout",
     "output_type": "stream",
     "text": [
      "Validation: {'precision': 0.7569325573407842, 'recall': 0.6933207902141947, 'f1': 0.7237315825686255, 'auc': 0.8205652561085652, 'prauc': 0.8285407331994801}\n",
      "Test:      {'precision': 0.7765814266461084, 'recall': 0.7237378488531712, 'f1': 0.7492290162665528, 'auc': 0.834121808161784, 'prauc': 0.8401640074915706}\n",
      "\n",
      "Early stopping triggered (no improvement for 5 epochs).\n",
      "\n",
      "Best validation performance:\n",
      "{'precision': 0.7472388766148714, 'recall': 0.7425525242999607, 'f1': 0.7448883246611226, 'auc': 0.8258299189911975, 'prauc': 0.8390364313690468}\n",
      "Corresponding test performance:\n",
      "{'precision': 0.7432221875950663, 'recall': 0.7478833490098844, 'f1': 0.7455454779611443, 'auc': 0.8243709943943541, 'prauc': 0.8351995981706204}\n"
     ]
    },
    {
     "name": "stderr",
     "output_type": "stream",
     "text": [
      "Epoch 001: 100%|██████████| 98/98 [00:01<00:00, 80.73it/s, loss=0.6736]\n",
      "Running inference: 100%|██████████| 198/198 [00:00<00:00, 321.33it/s]\n",
      "Running inference: 100%|██████████| 197/197 [00:00<00:00, 324.70it/s]\n"
     ]
    },
    {
     "name": "stdout",
     "output_type": "stream",
     "text": [
      "Validation: {'precision': 0.5665855029021042, 'recall': 0.9485732204423062, 'f1': 0.7094277626707319, 'auc': 0.7805501609636377, 'prauc': 0.7835084870661311}\n",
      "Test:      {'precision': 0.5682033769672392, 'recall': 0.9391658827189114, 'f1': 0.7080378203602523, 'auc': 0.7741605247170374, 'prauc': 0.779793388710775}\n"
     ]
    },
    {
     "name": "stderr",
     "output_type": "stream",
     "text": [
      "Epoch 002: 100%|██████████| 98/98 [00:01<00:00, 80.60it/s, loss=0.6030]\n",
      "Running inference: 100%|██████████| 198/198 [00:00<00:00, 322.75it/s]\n",
      "Running inference: 100%|██████████| 197/197 [00:00<00:00, 326.06it/s]\n"
     ]
    },
    {
     "name": "stdout",
     "output_type": "stream",
     "text": [
      "Validation: {'precision': 0.736806722686599, 'recall': 0.6873628096560447, 'f1': 0.7112264713178007, 'auc': 0.787938734047439, 'prauc': 0.7950871772223467}\n",
      "Test:      {'precision': 0.7251153592593108, 'recall': 0.6898714330489499, 'f1': 0.7070544703342703, 'auc': 0.7780898624736818, 'prauc': 0.7841760298987333}\n"
     ]
    },
    {
     "name": "stderr",
     "output_type": "stream",
     "text": [
      "Epoch 003: 100%|██████████| 98/98 [00:01<00:00, 81.31it/s, loss=0.5489]\n",
      "Running inference: 100%|██████████| 198/198 [00:00<00:00, 318.42it/s]\n",
      "Running inference: 100%|██████████| 197/197 [00:00<00:00, 324.20it/s]\n"
     ]
    },
    {
     "name": "stdout",
     "output_type": "stream",
     "text": [
      "Validation: {'precision': 0.7829137432902068, 'recall': 0.5948573220426627, 'f1': 0.6760513136937364, 'auc': 0.7948970291882672, 'prauc': 0.806110585185169}\n",
      "Test:      {'precision': 0.7834343434311781, 'recall': 0.6080275948554155, 'f1': 0.6846751363199751, 'auc': 0.7963198635759863, 'prauc': 0.8110199916208882}\n"
     ]
    },
    {
     "name": "stderr",
     "output_type": "stream",
     "text": [
      "Epoch 004: 100%|██████████| 98/98 [00:01<00:00, 80.60it/s, loss=0.5278]\n",
      "Running inference: 100%|██████████| 198/198 [00:00<00:00, 320.61it/s]\n",
      "Running inference: 100%|██████████| 197/197 [00:00<00:00, 324.45it/s]\n"
     ]
    },
    {
     "name": "stdout",
     "output_type": "stream",
     "text": [
      "Validation: {'precision': 0.7944990176786071, 'recall': 0.6340545625568076, 'f1': 0.705266824499048, 'auc': 0.8144872599046566, 'prauc': 0.8245620679265385}\n",
      "Test:      {'precision': 0.786012922840038, 'recall': 0.648479147066013, 'f1': 0.7106529160057186, 'auc': 0.8111258756147612, 'prauc': 0.8266636950395071}\n"
     ]
    },
    {
     "name": "stderr",
     "output_type": "stream",
     "text": [
      "Epoch 005: 100%|██████████| 98/98 [00:01<00:00, 81.25it/s, loss=0.5138]\n",
      "Running inference: 100%|██████████| 198/198 [00:00<00:00, 321.95it/s]\n",
      "Running inference: 100%|██████████| 197/197 [00:00<00:00, 325.99it/s]\n"
     ]
    },
    {
     "name": "stdout",
     "output_type": "stream",
     "text": [
      "Validation: {'precision': 0.7626514611519507, 'recall': 0.6710567576021604, 'f1': 0.713928268579327, 'auc': 0.8134070688562264, 'prauc': 0.822884844225627}\n",
      "Test:      {'precision': 0.7602930914139557, 'recall': 0.6832862966425736, 'f1': 0.7197357505857567, 'auc': 0.8096574953932232, 'prauc': 0.8223327904038558}\n"
     ]
    },
    {
     "name": "stderr",
     "output_type": "stream",
     "text": [
      "Epoch 006: 100%|██████████| 98/98 [00:01<00:00, 81.07it/s, loss=0.4934]\n",
      "Running inference: 100%|██████████| 198/198 [00:00<00:00, 321.74it/s]\n",
      "Running inference: 100%|██████████| 197/197 [00:00<00:00, 324.55it/s]\n"
     ]
    },
    {
     "name": "stdout",
     "output_type": "stream",
     "text": [
      "Validation: {'precision': 0.7372349955188497, 'recall': 0.7742238946353898, 'f1': 0.7552768380719599, 'auc': 0.8222983242319375, 'prauc': 0.8271694791531488}\n",
      "Test:      {'precision': 0.7292525014693076, 'recall': 0.7770460959524081, 'f1': 0.7523910683289979, 'auc': 0.8150769574585994, 'prauc': 0.825052073714726}\n"
     ]
    },
    {
     "name": "stderr",
     "output_type": "stream",
     "text": [
      "Epoch 007: 100%|██████████| 98/98 [00:01<00:00, 81.06it/s, loss=0.4558]\n",
      "Running inference: 100%|██████████| 198/198 [00:00<00:00, 321.97it/s]\n",
      "Running inference: 100%|██████████| 197/197 [00:00<00:00, 325.01it/s]\n"
     ]
    },
    {
     "name": "stdout",
     "output_type": "stream",
     "text": [
      "Validation: {'precision': 0.7046342825217626, 'recall': 0.7914706804616135, 'f1': 0.7455324126782074, 'auc': 0.8152378977358186, 'prauc': 0.8233541986386381}\n",
      "Test:      {'precision': 0.6959868059354151, 'recall': 0.7939793038545188, 'f1': 0.7417606512374124, 'auc': 0.8119755560219797, 'prauc': 0.8234217261218053}\n"
     ]
    },
    {
     "name": "stderr",
     "output_type": "stream",
     "text": [
      "Epoch 008: 100%|██████████| 98/98 [00:01<00:00, 81.61it/s, loss=0.4251]\n",
      "Running inference: 100%|██████████| 198/198 [00:00<00:00, 318.80it/s]\n",
      "Running inference: 100%|██████████| 197/197 [00:00<00:00, 323.28it/s]\n"
     ]
    },
    {
     "name": "stdout",
     "output_type": "stream",
     "text": [
      "Validation: {'precision': 0.6804822908799787, 'recall': 0.8494825964225479, 'f1': 0.755648530623753, 'auc': 0.8189912878387127, 'prauc': 0.8252966400410695}\n",
      "Test:      {'precision': 0.6786158824976883, 'recall': 0.8548134211324716, 'f1': 0.7565917241785418, 'auc': 0.81731815877915, 'prauc': 0.8252937246823171}\n"
     ]
    },
    {
     "name": "stderr",
     "output_type": "stream",
     "text": [
      "Epoch 009: 100%|██████████| 98/98 [00:01<00:00, 81.43it/s, loss=0.4032]\n",
      "Running inference: 100%|██████████| 198/198 [00:00<00:00, 319.81it/s]\n",
      "Running inference: 100%|██████████| 197/197 [00:00<00:00, 311.18it/s]\n"
     ]
    },
    {
     "name": "stdout",
     "output_type": "stream",
     "text": [
      "Validation: {'precision': 0.7729041386601595, 'recall': 0.6851677641872526, 'f1': 0.7263962716114338, 'auc': 0.8200162686758963, 'prauc': 0.8262955460289085}\n",
      "Test:      {'precision': 0.765345492806856, 'recall': 0.6842270304149131, 'f1': 0.7225165513046562, 'auc': 0.8139066020988077, 'prauc': 0.8227116393859135}\n"
     ]
    },
    {
     "name": "stderr",
     "output_type": "stream",
     "text": [
      "Epoch 010: 100%|██████████| 98/98 [00:01<00:00, 79.56it/s, loss=0.3868]\n",
      "Running inference: 100%|██████████| 198/198 [00:00<00:00, 318.64it/s]\n",
      "Running inference: 100%|██████████| 197/197 [00:00<00:00, 323.47it/s]\n"
     ]
    },
    {
     "name": "stdout",
     "output_type": "stream",
     "text": [
      "Validation: {'precision': 0.7745241581230801, 'recall': 0.6635308874234446, 'f1': 0.7147441260863145, 'auc': 0.8182712944378148, 'prauc': 0.8230913968473094}\n",
      "Test:      {'precision': 0.7710113960086503, 'recall': 0.6788962057049893, 'f1': 0.7220276755246937, 'auc': 0.8170681521099566, 'prauc': 0.8208448758890896}\n"
     ]
    },
    {
     "name": "stderr",
     "output_type": "stream",
     "text": [
      "Epoch 011: 100%|██████████| 98/98 [00:01<00:00, 80.48it/s, loss=0.3545]\n",
      "Running inference: 100%|██████████| 198/198 [00:00<00:00, 318.97it/s]\n",
      "Running inference: 100%|██████████| 197/197 [00:00<00:00, 321.86it/s]\n"
     ]
    },
    {
     "name": "stdout",
     "output_type": "stream",
     "text": [
      "Validation: {'precision': 0.7508143322451114, 'recall': 0.7227971150808317, 'f1': 0.7365393782875193, 'auc': 0.8196216086035092, 'prauc': 0.8229425684537858}\n",
      "Test:      {'precision': 0.7486285898652836, 'recall': 0.727500783942529, 'f1': 0.7379134810037665, 'auc': 0.81723123276391, 'prauc': 0.822889684427928}\n",
      "\n",
      "Early stopping triggered (no improvement for 5 epochs).\n",
      "\n",
      "Best validation performance:\n",
      "{'precision': 0.7372349955188497, 'recall': 0.7742238946353898, 'f1': 0.7552768380719599, 'auc': 0.8222983242319375, 'prauc': 0.8271694791531488}\n",
      "Corresponding test performance:\n",
      "{'precision': 0.7292525014693076, 'recall': 0.7770460959524081, 'f1': 0.7523910683289979, 'auc': 0.8150769574585994, 'prauc': 0.825052073714726}\n"
     ]
    }
   ],
   "source": [
    "final_metrics = {\"precision\":[],\"recall\":[],\"f1\":[],\"auc\":[],\"prauc\":[]}\n",
    "for i in range(5):\n",
    "    model = HeteroGT(tokenizer, d_model=128, num_heads=4, num_layers=2, max_num_adms=config.max_num_adms, \n",
    "                     device=device, task=curr_task, use_hetero_graph=False).to(device)\n",
    "    optimizer = torch.optim.AdamW(model.parameters(), lr=config.lr)\n",
    "    best_test_metric = train_with_early_stopping(model, train_dataloader, val_dataloader, test_dataloader,\n",
    "                                             optimizer, loss_fn, device, config.early_stop_patience, task_type, config.epochs, \n",
    "                                             val_long_seq_idx=None, test_long_seq_idx=None, eval_metric=eval_metric, return_model=False)\n",
    "    for key in final_metrics.keys():\n",
    "        final_metrics[key].append(best_test_metric[key])"
   ]
  },
  {
   "cell_type": "code",
   "execution_count": 21,
   "id": "edd0b6ea",
   "metadata": {},
   "outputs": [
    {
     "name": "stdout",
     "output_type": "stream",
     "text": [
      "\n",
      "Final Metrics:\n",
      "precision: 0.7711 ± 0.0397\n",
      "recall: 0.6721 ± 0.0880\n",
      "f1: 0.7122 ± 0.0370\n",
      "auc: 0.8141 ± 0.0069\n",
      "prauc: 0.8249 ± 0.0061\n"
     ]
    }
   ],
   "source": [
    "# print the mean and std of the final metrics\n",
    "print(\"\\nFinal Metrics:\")\n",
    "for key in final_metrics.keys():\n",
    "    mean_value = np.mean(final_metrics[key])\n",
    "    std_value = np.std(final_metrics[key])\n",
    "    print(f\"{key}: {mean_value:.4f} ± {std_value:.4f}\")"
   ]
  }
 ],
 "metadata": {
  "kernelspec": {
   "display_name": "Python 3",
   "language": "python",
   "name": "python3"
  },
  "language_info": {
   "codemirror_mode": {
    "name": "ipython",
    "version": 3
   },
   "file_extension": ".py",
   "mimetype": "text/x-python",
   "name": "python",
   "nbconvert_exporter": "python",
   "pygments_lexer": "ipython3",
   "version": "3.10.18"
  }
 },
 "nbformat": 4,
 "nbformat_minor": 5
}
